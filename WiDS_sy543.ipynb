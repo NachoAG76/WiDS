{
 "cells": [
  {
   "cell_type": "code",
   "execution_count": 26,
   "metadata": {},
   "outputs": [
    {
     "name": "stderr",
     "output_type": "stream",
     "text": [
      "/Applications/anaconda/lib/python3.6/site-packages/IPython/core/interactiveshell.py:2717: DtypeWarning: Columns (12,49,51,56,91,126,145,163,165,166,167,168,169,171,173,174,176,177,242,244,246,248,252,255,274,290,291,292,294,295,296,332,344,366,374,376,397,414,440,491,620,634,639,642,643,645,710,713,760,769,810,829,929,954,979,1001,1002,1003,1004,1005,1024,1037,1041,1043,1062,1086,1099,1100,1121,1129,1136,1152,1153,1166,1168,1182,1193,1204,1205,1207,1208,1216,1226,1228,1230,1232,1234) have mixed types. Specify dtype option on import or set low_memory=False.\n",
      "  interactivity=interactivity, compiler=compiler, result=result)\n",
      "/Applications/anaconda/lib/python3.6/site-packages/IPython/core/interactiveshell.py:2717: DtypeWarning: Columns (11,13,48,50,55,90,125,144,162,163,164,166,168,169,170,171,172,174,176,241,243,245,247,251,254,273,289,291,292,293,295,296,312,313,314,331,343,365,373,375,396,413,439,490,619,623,630,633,638,642,644,669,712,759,768,788,809,828,928,953,978,1000,1001,1002,1003,1004,1023,1036,1040,1042,1063,1085,1098,1099,1120,1128,1135,1151,1152,1165,1167,1181,1192,1204,1205,1206,1207,1215,1225,1227,1229,1231,1233) have mixed types. Specify dtype option on import or set low_memory=False.\n",
      "  interactivity=interactivity, compiler=compiler, result=result)\n"
     ]
    }
   ],
   "source": [
    "import pandas as pd\n",
    "train = pd.read_csv(\"train.csv\")\n",
    "test = pd.read_csv(\"test.csv\")"
   ]
  },
  {
   "cell_type": "code",
   "execution_count": 67,
   "metadata": {},
   "outputs": [],
   "source": [
    "df=(train[[\"is_female\",\"DL1\"]])\n",
    "# df[ :,lambda dh\n",
    "household_wife = df.loc[df['DL1'] == 7]"
   ]
  },
  {
   "cell_type": "code",
   "execution_count": 68,
   "metadata": {
    "collapsed": true
   },
   "outputs": [],
   "source": [
    "a = list(household_wife[\"is_female\"])"
   ]
  },
  {
   "cell_type": "code",
   "execution_count": 72,
   "metadata": {},
   "outputs": [
    {
     "data": {
      "text/plain": [
       "0.976518361581921"
      ]
     },
     "execution_count": 72,
     "metadata": {},
     "output_type": "execute_result"
    }
   ],
   "source": [
    "a.count(1) * 1.0 / len(a)"
   ]
  },
  {
   "cell_type": "code",
   "execution_count": 54,
   "metadata": {
    "collapsed": true
   },
   "outputs": [],
   "source": [
    "import numpy as np"
   ]
  },
  {
   "cell_type": "code",
   "execution_count": 27,
   "metadata": {
    "collapsed": true
   },
   "outputs": [],
   "source": [
    "from copy import deepcopy"
   ]
  },
  {
   "cell_type": "code",
   "execution_count": 28,
   "metadata": {
    "collapsed": true
   },
   "outputs": [],
   "source": [
    "train2 = deepcopy(train)\n",
    "test2 = deepcopy(test)"
   ]
  },
  {
   "cell_type": "code",
   "execution_count": 15,
   "metadata": {},
   "outputs": [
    {
     "data": {
      "text/html": [
       "<div>\n",
       "<style>\n",
       "    .dataframe thead tr:only-child th {\n",
       "        text-align: right;\n",
       "    }\n",
       "\n",
       "    .dataframe thead th {\n",
       "        text-align: left;\n",
       "    }\n",
       "\n",
       "    .dataframe tbody tr th {\n",
       "        vertical-align: top;\n",
       "    }\n",
       "</style>\n",
       "<table border=\"1\" class=\"dataframe\">\n",
       "  <thead>\n",
       "    <tr style=\"text-align: right;\">\n",
       "      <th></th>\n",
       "      <th>train_id</th>\n",
       "      <th>AA3</th>\n",
       "      <th>AA4</th>\n",
       "      <th>AA5</th>\n",
       "      <th>AA6</th>\n",
       "      <th>AA7</th>\n",
       "      <th>AA14</th>\n",
       "      <th>AA15</th>\n",
       "      <th>DG1</th>\n",
       "      <th>is_female</th>\n",
       "      <th>...</th>\n",
       "      <th>GN1</th>\n",
       "      <th>GN1_OTHERS</th>\n",
       "      <th>GN2</th>\n",
       "      <th>GN2_OTHERS</th>\n",
       "      <th>GN3</th>\n",
       "      <th>GN3_OTHERS</th>\n",
       "      <th>GN4</th>\n",
       "      <th>GN4_OTHERS</th>\n",
       "      <th>GN5</th>\n",
       "      <th>GN5_OTHERS</th>\n",
       "    </tr>\n",
       "  </thead>\n",
       "  <tbody>\n",
       "    <tr>\n",
       "      <th>0</th>\n",
       "      <td>0</td>\n",
       "      <td>3</td>\n",
       "      <td>32</td>\n",
       "      <td>3.0</td>\n",
       "      <td>NaN</td>\n",
       "      <td>323011</td>\n",
       "      <td>3854</td>\n",
       "      <td>481</td>\n",
       "      <td>1975</td>\n",
       "      <td>1</td>\n",
       "      <td>...</td>\n",
       "      <td>99.0</td>\n",
       "      <td>NaN</td>\n",
       "      <td>99</td>\n",
       "      <td>NaN</td>\n",
       "      <td>99</td>\n",
       "      <td>NaN</td>\n",
       "      <td>99</td>\n",
       "      <td>NaN</td>\n",
       "      <td>99</td>\n",
       "      <td>NaN</td>\n",
       "    </tr>\n",
       "    <tr>\n",
       "      <th>1</th>\n",
       "      <td>1</td>\n",
       "      <td>2</td>\n",
       "      <td>26</td>\n",
       "      <td>NaN</td>\n",
       "      <td>8.0</td>\n",
       "      <td>268131</td>\n",
       "      <td>2441</td>\n",
       "      <td>344</td>\n",
       "      <td>1981</td>\n",
       "      <td>1</td>\n",
       "      <td>...</td>\n",
       "      <td>NaN</td>\n",
       "      <td>NaN</td>\n",
       "      <td>1</td>\n",
       "      <td>NaN</td>\n",
       "      <td>2</td>\n",
       "      <td>NaN</td>\n",
       "      <td>2</td>\n",
       "      <td>NaN</td>\n",
       "      <td>2</td>\n",
       "      <td>NaN</td>\n",
       "    </tr>\n",
       "    <tr>\n",
       "      <th>2</th>\n",
       "      <td>2</td>\n",
       "      <td>1</td>\n",
       "      <td>16</td>\n",
       "      <td>NaN</td>\n",
       "      <td>7.0</td>\n",
       "      <td>167581</td>\n",
       "      <td>754</td>\n",
       "      <td>143</td>\n",
       "      <td>1995</td>\n",
       "      <td>1</td>\n",
       "      <td>...</td>\n",
       "      <td>1.0</td>\n",
       "      <td>NaN</td>\n",
       "      <td>2</td>\n",
       "      <td>NaN</td>\n",
       "      <td>2</td>\n",
       "      <td>NaN</td>\n",
       "      <td>2</td>\n",
       "      <td>NaN</td>\n",
       "      <td>2</td>\n",
       "      <td>NaN</td>\n",
       "    </tr>\n",
       "    <tr>\n",
       "      <th>3</th>\n",
       "      <td>3</td>\n",
       "      <td>4</td>\n",
       "      <td>44</td>\n",
       "      <td>5.0</td>\n",
       "      <td>NaN</td>\n",
       "      <td>445071</td>\n",
       "      <td>5705</td>\n",
       "      <td>604</td>\n",
       "      <td>1980</td>\n",
       "      <td>1</td>\n",
       "      <td>...</td>\n",
       "      <td>NaN</td>\n",
       "      <td>NaN</td>\n",
       "      <td>2</td>\n",
       "      <td>NaN</td>\n",
       "      <td>2</td>\n",
       "      <td>NaN</td>\n",
       "      <td>99</td>\n",
       "      <td>NaN</td>\n",
       "      <td>99</td>\n",
       "      <td>NaN</td>\n",
       "    </tr>\n",
       "    <tr>\n",
       "      <th>4</th>\n",
       "      <td>4</td>\n",
       "      <td>4</td>\n",
       "      <td>43</td>\n",
       "      <td>NaN</td>\n",
       "      <td>6.0</td>\n",
       "      <td>436161</td>\n",
       "      <td>5645</td>\n",
       "      <td>592</td>\n",
       "      <td>1958</td>\n",
       "      <td>1</td>\n",
       "      <td>...</td>\n",
       "      <td>NaN</td>\n",
       "      <td>NaN</td>\n",
       "      <td>1</td>\n",
       "      <td>NaN</td>\n",
       "      <td>1</td>\n",
       "      <td>NaN</td>\n",
       "      <td>1</td>\n",
       "      <td>NaN</td>\n",
       "      <td>1</td>\n",
       "      <td>NaN</td>\n",
       "    </tr>\n",
       "  </tbody>\n",
       "</table>\n",
       "<p>5 rows × 1235 columns</p>\n",
       "</div>"
      ],
      "text/plain": [
       "   train_id  AA3  AA4  AA5  AA6     AA7  AA14  AA15   DG1  is_female  \\\n",
       "0         0    3   32  3.0  NaN  323011  3854   481  1975          1   \n",
       "1         1    2   26  NaN  8.0  268131  2441   344  1981          1   \n",
       "2         2    1   16  NaN  7.0  167581   754   143  1995          1   \n",
       "3         3    4   44  5.0  NaN  445071  5705   604  1980          1   \n",
       "4         4    4   43  NaN  6.0  436161  5645   592  1958          1   \n",
       "\n",
       "      ...       GN1  GN1_OTHERS GN2  GN2_OTHERS  GN3  GN3_OTHERS  GN4  \\\n",
       "0     ...      99.0         NaN  99         NaN   99         NaN   99   \n",
       "1     ...       NaN         NaN   1         NaN    2         NaN    2   \n",
       "2     ...       1.0         NaN   2         NaN    2         NaN    2   \n",
       "3     ...       NaN         NaN   2         NaN    2         NaN   99   \n",
       "4     ...       NaN         NaN   1         NaN    1         NaN    1   \n",
       "\n",
       "   GN4_OTHERS  GN5  GN5_OTHERS  \n",
       "0         NaN   99         NaN  \n",
       "1         NaN    2         NaN  \n",
       "2         NaN    2         NaN  \n",
       "3         NaN   99         NaN  \n",
       "4         NaN    1         NaN  \n",
       "\n",
       "[5 rows x 1235 columns]"
      ]
     },
     "execution_count": 15,
     "metadata": {},
     "output_type": "execute_result"
    }
   ],
   "source": [
    "train.head()"
   ]
  },
  {
   "cell_type": "code",
   "execution_count": 38,
   "metadata": {},
   "outputs": [
    {
     "data": {
      "text/html": [
       "<div>\n",
       "<style>\n",
       "    .dataframe thead tr:only-child th {\n",
       "        text-align: right;\n",
       "    }\n",
       "\n",
       "    .dataframe thead th {\n",
       "        text-align: left;\n",
       "    }\n",
       "\n",
       "    .dataframe tbody tr th {\n",
       "        vertical-align: top;\n",
       "    }\n",
       "</style>\n",
       "<table border=\"1\" class=\"dataframe\">\n",
       "  <thead>\n",
       "    <tr style=\"text-align: right;\">\n",
       "      <th></th>\n",
       "      <th>train_id</th>\n",
       "      <th>AA3</th>\n",
       "      <th>AA4</th>\n",
       "      <th>AA7</th>\n",
       "      <th>AA14</th>\n",
       "      <th>AA15</th>\n",
       "      <th>DG1</th>\n",
       "      <th>is_female</th>\n",
       "      <th>DG3</th>\n",
       "      <th>DG3A</th>\n",
       "      <th>...</th>\n",
       "      <th>LN1A</th>\n",
       "      <th>LN1B</th>\n",
       "      <th>LN2_1</th>\n",
       "      <th>LN2_2</th>\n",
       "      <th>LN2_3</th>\n",
       "      <th>LN2_4</th>\n",
       "      <th>GN2</th>\n",
       "      <th>GN3</th>\n",
       "      <th>GN4</th>\n",
       "      <th>GN5</th>\n",
       "    </tr>\n",
       "  </thead>\n",
       "  <tbody>\n",
       "    <tr>\n",
       "      <th>0</th>\n",
       "      <td>0</td>\n",
       "      <td>3</td>\n",
       "      <td>32</td>\n",
       "      <td>323011</td>\n",
       "      <td>3854</td>\n",
       "      <td>481</td>\n",
       "      <td>1975</td>\n",
       "      <td>1</td>\n",
       "      <td>3</td>\n",
       "      <td>4</td>\n",
       "      <td>...</td>\n",
       "      <td>1</td>\n",
       "      <td>1</td>\n",
       "      <td>1</td>\n",
       "      <td>1</td>\n",
       "      <td>1</td>\n",
       "      <td>1</td>\n",
       "      <td>99</td>\n",
       "      <td>99</td>\n",
       "      <td>99</td>\n",
       "      <td>99</td>\n",
       "    </tr>\n",
       "    <tr>\n",
       "      <th>1</th>\n",
       "      <td>1</td>\n",
       "      <td>2</td>\n",
       "      <td>26</td>\n",
       "      <td>268131</td>\n",
       "      <td>2441</td>\n",
       "      <td>344</td>\n",
       "      <td>1981</td>\n",
       "      <td>1</td>\n",
       "      <td>8</td>\n",
       "      <td>4</td>\n",
       "      <td>...</td>\n",
       "      <td>3</td>\n",
       "      <td>3</td>\n",
       "      <td>1</td>\n",
       "      <td>1</td>\n",
       "      <td>3</td>\n",
       "      <td>4</td>\n",
       "      <td>1</td>\n",
       "      <td>2</td>\n",
       "      <td>2</td>\n",
       "      <td>2</td>\n",
       "    </tr>\n",
       "    <tr>\n",
       "      <th>2</th>\n",
       "      <td>2</td>\n",
       "      <td>1</td>\n",
       "      <td>16</td>\n",
       "      <td>167581</td>\n",
       "      <td>754</td>\n",
       "      <td>143</td>\n",
       "      <td>1995</td>\n",
       "      <td>1</td>\n",
       "      <td>3</td>\n",
       "      <td>2</td>\n",
       "      <td>...</td>\n",
       "      <td>4</td>\n",
       "      <td>4</td>\n",
       "      <td>1</td>\n",
       "      <td>1</td>\n",
       "      <td>2</td>\n",
       "      <td>2</td>\n",
       "      <td>2</td>\n",
       "      <td>2</td>\n",
       "      <td>2</td>\n",
       "      <td>2</td>\n",
       "    </tr>\n",
       "    <tr>\n",
       "      <th>3</th>\n",
       "      <td>3</td>\n",
       "      <td>4</td>\n",
       "      <td>44</td>\n",
       "      <td>445071</td>\n",
       "      <td>5705</td>\n",
       "      <td>604</td>\n",
       "      <td>1980</td>\n",
       "      <td>1</td>\n",
       "      <td>3</td>\n",
       "      <td>4</td>\n",
       "      <td>...</td>\n",
       "      <td>3</td>\n",
       "      <td>2</td>\n",
       "      <td>1</td>\n",
       "      <td>1</td>\n",
       "      <td>4</td>\n",
       "      <td>5</td>\n",
       "      <td>2</td>\n",
       "      <td>2</td>\n",
       "      <td>99</td>\n",
       "      <td>99</td>\n",
       "    </tr>\n",
       "    <tr>\n",
       "      <th>4</th>\n",
       "      <td>4</td>\n",
       "      <td>4</td>\n",
       "      <td>43</td>\n",
       "      <td>436161</td>\n",
       "      <td>5645</td>\n",
       "      <td>592</td>\n",
       "      <td>1958</td>\n",
       "      <td>1</td>\n",
       "      <td>3</td>\n",
       "      <td>4</td>\n",
       "      <td>...</td>\n",
       "      <td>2</td>\n",
       "      <td>1</td>\n",
       "      <td>2</td>\n",
       "      <td>4</td>\n",
       "      <td>4</td>\n",
       "      <td>4</td>\n",
       "      <td>1</td>\n",
       "      <td>1</td>\n",
       "      <td>1</td>\n",
       "      <td>1</td>\n",
       "    </tr>\n",
       "  </tbody>\n",
       "</table>\n",
       "<p>5 rows × 239 columns</p>\n",
       "</div>"
      ],
      "text/plain": [
       "   train_id  AA3  AA4     AA7  AA14  AA15   DG1  is_female  DG3  DG3A ...   \\\n",
       "0         0    3   32  323011  3854   481  1975          1    3     4 ...    \n",
       "1         1    2   26  268131  2441   344  1981          1    8     4 ...    \n",
       "2         2    1   16  167581   754   143  1995          1    3     2 ...    \n",
       "3         3    4   44  445071  5705   604  1980          1    3     4 ...    \n",
       "4         4    4   43  436161  5645   592  1958          1    3     4 ...    \n",
       "\n",
       "   LN1A  LN1B  LN2_1  LN2_2  LN2_3  LN2_4  GN2  GN3  GN4  GN5  \n",
       "0     1     1      1      1      1      1   99   99   99   99  \n",
       "1     3     3      1      1      3      4    1    2    2    2  \n",
       "2     4     4      1      1      2      2    2    2    2    2  \n",
       "3     3     2      1      1      4      5    2    2   99   99  \n",
       "4     2     1      2      4      4      4    1    1    1    1  \n",
       "\n",
       "[5 rows x 239 columns]"
      ]
     },
     "execution_count": 38,
     "metadata": {},
     "output_type": "execute_result"
    }
   ],
   "source": [
    "# drop the nas by \"any\" or \"all\"\n",
    "t_nona = train.dropna(axis = 1, how = \"any\")\n",
    "t_nona.head()"
   ]
  },
  {
   "cell_type": "code",
   "execution_count": null,
   "metadata": {},
   "outputs": [],
   "source": [
    "map = {1:'f',0:'m'}\n",
    "t_nona['is_female'].map(map)\n",
    "t_nona[\"is_female\"]"
   ]
  },
  {
   "cell_type": "code",
   "execution_count": 39,
   "metadata": {},
   "outputs": [],
   "source": [
    "y_train = t_nona[\"is_female\"]\n",
    "X_train = t_nona.drop(\"is_female\",axis=1)"
   ]
  },
  {
   "cell_type": "code",
   "execution_count": 8,
   "metadata": {},
   "outputs": [],
   "source": [
    "from sklearn.linear_model import LogisticRegression as LR"
   ]
  },
  {
   "cell_type": "code",
   "execution_count": 32,
   "metadata": {
    "collapsed": true
   },
   "outputs": [],
   "source": [
    "from sklearn import datasets"
   ]
  },
  {
   "cell_type": "code",
   "execution_count": 49,
   "metadata": {},
   "outputs": [],
   "source": [
    "X_train_input = X_train.values\n",
    "Y_train_input = y_train.values"
   ]
  },
  {
   "cell_type": "code",
   "execution_count": 51,
   "metadata": {},
   "outputs": [
    {
     "data": {
      "text/plain": [
       "LogisticRegression(C=1.0, class_weight=None, dual=False, fit_intercept=True,\n",
       "          intercept_scaling=1, max_iter=100, multi_class='ovr', n_jobs=1,\n",
       "          penalty='l2', random_state=None, solver='liblinear', tol=0.0001,\n",
       "          verbose=0, warm_start=False)"
      ]
     },
     "execution_count": 51,
     "metadata": {},
     "output_type": "execute_result"
    }
   ],
   "source": [
    "logreg = LR()\n",
    "logreg.fit(X_train_input, Y_train_input)"
   ]
  },
  {
   "cell_type": "code",
   "execution_count": 52,
   "metadata": {},
   "outputs": [
    {
     "name": "stdout",
     "output_type": "stream",
     "text": [
      "[[  1.11467898e-06   6.95839695e-03   2.86924305e-02  -4.86787604e-06\n",
      "    2.92754803e-06   1.22801364e-03  -1.06207899e-03   1.69857701e-02\n",
      "   -9.95313572e-03  -2.15508669e-02  -5.21732940e-03   1.00463367e-01\n",
      "    2.60817154e-02   1.78636937e-01   2.58694727e-02  -1.61414168e-03\n",
      "   -3.04655792e-02   4.03628616e-03  -3.39500931e-03   1.69152746e-02\n",
      "   -9.17318367e-03  -5.94503218e-03  -2.80540628e-03   2.31840448e-04\n",
      "    5.50288949e-03  -4.19551183e-03   8.96589508e-01   8.96369145e-04\n",
      "   -3.75814175e-03  -1.01274227e-02  -1.63044813e-02  -1.12405271e-03\n",
      "   -1.86000724e-01   1.65637404e-01   1.03349437e-02   1.01774206e-02\n",
      "    6.58859593e-03   4.93240737e-03  -3.50101624e-03  -4.72515338e-03\n",
      "   -2.23939786e-03  -3.65479493e-03  -3.96828755e-03   3.03285885e-02\n",
      "    3.34855014e-02  -6.87157623e-03   3.61914135e-02   3.04049116e-02\n",
      "   -8.02292195e-03  -4.89787760e-03  -7.19402531e-03   1.20838623e-02\n",
      "   -1.00876779e-01   7.33519362e-02  -5.32024093e-04  -2.55316077e-02\n",
      "    3.19520454e-02  -2.50865155e-02   6.21613910e-03   1.25692140e-02\n",
      "    1.88409423e-02   1.94947595e-02   1.19426734e-02  -2.98334245e-03\n",
      "   -1.97756145e-02  -1.45871042e-03   1.30241878e-03   1.88190520e-03\n",
      "   -1.06984939e-02   9.01747680e-03   2.19353943e-02  -5.40421905e-04\n",
      "   -7.40460643e-03  -2.35379942e-03   1.35317482e-02  -1.47248562e-05\n",
      "    2.40404965e-02   1.42131013e-03  -1.90746618e-02   1.20316961e-02\n",
      "    4.26698328e-03  -3.99798310e-04  -1.32733351e-02  -5.87593946e-03\n",
      "   -3.35757538e-02  -6.60093151e-03  -2.13735011e-03   3.43408316e-01\n",
      "    3.46499265e-01   3.86324523e-02   5.83535051e-02  -9.94719724e-05\n",
      "    1.97684127e-02  -5.08814856e-03  -5.44830022e-03  -6.11594690e-03\n",
      "   -2.80386328e-03  -4.69732260e-03  -5.33258466e-03  -6.23185622e-03\n",
      "   -5.56382063e-03  -4.35713560e-03  -4.73190076e-03  -7.21142071e-04\n",
      "   -5.76815033e-03  -5.82449766e-03  -5.94503218e-03   2.54745556e-03\n",
      "   -6.86373444e-03  -6.90040440e-03  -5.91105242e-03  -7.01317889e-03\n",
      "   -7.15888189e-03  -6.87634156e-03  -7.22768085e-03  -6.38122818e-03\n",
      "   -5.88180020e-03  -5.48505391e-03  -6.30975271e-03  -3.12345046e-02\n",
      "   -2.97674119e-02  -6.04281308e-03  -4.82218888e-03  -6.25045631e-02\n",
      "   -6.39829170e-02  -5.85247229e-03   1.64303292e-02  -5.47233974e-03\n",
      "    1.28411999e-02  -4.30044950e-03  -1.38434598e-03  -1.90294574e-04\n",
      "    1.89080733e-03  -2.74490582e-06   2.16902942e-03  -4.16096778e-04\n",
      "   -2.92244654e-04  -1.49653922e-03  -1.05280374e-03   2.20367659e-03\n",
      "    9.45333293e-04  -3.50783951e-04   1.62302672e-03  -5.87956454e-04\n",
      "   -2.01219939e-03  -9.67645177e-04  -1.28906662e-02  -1.01043036e-03\n",
      "    2.04585466e-02  -3.22762931e-02  -1.12458897e-02   2.14599634e-02\n",
      "    4.96970093e-04  -1.39314556e-03   1.18637971e-04   7.84183676e-04\n",
      "   -2.55259083e-04  -1.18780457e-03  -5.35524005e-02  -1.19819372e-02\n",
      "    2.04035598e-02   7.90593259e-03  -3.15736755e-02   6.24565765e-04\n",
      "   -1.60314367e-03   8.48387924e-03  -1.29427421e-03  -1.98577584e-03\n",
      "    4.95746728e-05   4.29936903e-03   1.70581822e-03   9.81306987e-04\n",
      "    1.02745077e-03  -1.79080285e-04  -9.22603629e-04  -1.56384790e-03\n",
      "    7.53885708e-03  -8.80051203e-04  -6.95860841e-03   2.35534014e-03\n",
      "    1.10311909e-03   1.33886286e-02  -2.66407163e-02  -5.00853909e-03\n",
      "   -6.55315003e-03  -6.82362302e-03  -4.62972591e-02   1.92451189e-02\n",
      "    1.69796729e-02  -6.23566773e-03   2.22443015e-02   1.18298091e-03\n",
      "   -3.57004864e-03  -7.07939947e-04  -5.29988764e-03  -6.54425441e-04\n",
      "   -4.67069313e-03  -6.92221007e-03   1.41888252e-02  -9.46020776e-03\n",
      "   -8.46700784e-03   5.63815321e-03  -6.75463612e-03  -7.09321481e-03\n",
      "   -6.77642744e-03  -2.42366955e-02  -4.40321252e-02  -2.59509402e-03\n",
      "   -5.52804513e-03  -3.33988120e-02  -5.99122606e-03  -8.91615419e-03\n",
      "    1.24027836e-02   7.21510139e-03  -1.03522062e-03  -4.60022539e-03\n",
      "   -7.46249641e-03  -4.86702844e-03  -5.85234190e-03  -7.05503512e-03\n",
      "   -6.19557612e-03   3.19005290e-02  -4.40240468e-04  -5.50116405e-04\n",
      "   -6.85846405e-03  -5.45073835e-03  -7.63782957e-03  -3.08509397e-03\n",
      "    6.95390750e-02   5.46483785e-02  -1.92808481e-04  -1.78475558e-02\n",
      "   -1.09135374e-02  -2.26960278e-02  -1.35203830e-04  -2.52643409e-03\n",
      "   -1.14532620e-03   5.05504689e-03]]\n"
     ]
    }
   ],
   "source": [
    "print(logreg.coef_)"
   ]
  },
  {
   "cell_type": "code",
   "execution_count": 56,
   "metadata": {},
   "outputs": [
    {
     "data": {
      "text/plain": [
       "0.20958641468090933"
      ]
     },
     "execution_count": 56,
     "metadata": {},
     "output_type": "execute_result"
    }
   ],
   "source": [
    "np.mean((logreg.predict(X_train_input)-Y_train_input)**2)"
   ]
  },
  {
   "cell_type": "code",
   "execution_count": 58,
   "metadata": {},
   "outputs": [
    {
     "data": {
      "text/plain": [
       "0.79041358531909067"
      ]
     },
     "execution_count": 58,
     "metadata": {},
     "output_type": "execute_result"
    }
   ],
   "source": [
    "logreg.score(X_train_input, Y_train_input) "
   ]
  },
  {
   "cell_type": "code",
   "execution_count": null,
   "metadata": {
    "collapsed": true
   },
   "outputs": [],
   "source": []
  }
 ],
 "metadata": {
  "kernelspec": {
   "display_name": "Python 3",
   "language": "python",
   "name": "python3"
  },
  "language_info": {
   "codemirror_mode": {
    "name": "ipython",
    "version": 3
   },
   "file_extension": ".py",
   "mimetype": "text/x-python",
   "name": "python",
   "nbconvert_exporter": "python",
   "pygments_lexer": "ipython3",
   "version": "3.6.1"
  }
 },
 "nbformat": 4,
 "nbformat_minor": 2
}
