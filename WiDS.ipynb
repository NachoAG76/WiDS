{
 "cells": [
  {
   "cell_type": "code",
   "execution_count": 1,
   "metadata": {},
   "outputs": [],
   "source": [
    "import numpy as np\n",
    "import pandas as pd"
   ]
  },
  {
   "cell_type": "code",
   "execution_count": 2,
   "metadata": {},
   "outputs": [
    {
     "name": "stderr",
     "output_type": "stream",
     "text": [
      "/usr/local/lib/python3.6/site-packages/IPython/core/interactiveshell.py:2728: DtypeWarning: Columns (12,49,51,56,91,126,145,163,165,166,167,168,169,171,173,174,176,177,242,244,246,248,252,255,274,290,291,292,294,295,296,332,344,366,374,376,397,414,440,491,620,634,639,642,643,645,710,713,760,769,810,829,929,954,979,1001,1002,1003,1004,1005,1024,1037,1041,1043,1062,1086,1099,1100,1121,1129,1136,1152,1153,1166,1168,1182,1193,1204,1205,1207,1208,1216,1226,1228,1230,1232,1234) have mixed types. Specify dtype option on import or set low_memory=False.\n",
      "  interactivity=interactivity, compiler=compiler, result=result)\n",
      "/usr/local/lib/python3.6/site-packages/IPython/core/interactiveshell.py:2728: DtypeWarning: Columns (11,13,48,50,55,90,125,144,162,163,164,166,168,169,170,171,172,174,176,241,243,245,247,251,254,273,289,291,292,293,295,296,312,313,314,331,343,365,373,375,396,413,439,490,619,623,630,633,638,642,644,669,712,759,768,788,809,828,928,953,978,1000,1001,1002,1003,1004,1023,1036,1040,1042,1063,1085,1098,1099,1120,1128,1135,1151,1152,1165,1167,1181,1192,1204,1205,1206,1207,1215,1225,1227,1229,1231,1233) have mixed types. Specify dtype option on import or set low_memory=False.\n",
      "  interactivity=interactivity, compiler=compiler, result=result)\n"
     ]
    }
   ],
   "source": [
    "\n",
    "train = pd.read_csv(\"train.csv\")\n",
    "test = pd.read_csv(\"test.csv\")"
   ]
  },
  {
   "cell_type": "markdown",
   "metadata": {},
   "source": [
    "## function for preprocessing"
   ]
  },
  {
   "cell_type": "code",
   "execution_count": 3,
   "metadata": {},
   "outputs": [],
   "source": [
    "def delete80na_col(train):\n",
    "    over80 = []\n",
    "    other = []\n",
    "    for col in list(train.columns.values):\n",
    "        per = train[col].isnull().sum()/len(train[col])\n",
    "        if per > 0.4:\n",
    "#             print (\">80\")\n",
    "            over80.append(col)\n",
    "        else:\n",
    "            other.append(col)\n",
    "    return over80, other\n",
    "\n",
    "def my_fillna(X):\n",
    "#     acc = 0\n",
    "    for col in list(X.columns.values):\n",
    "        X[col].fillna(round(X[col].mean()), inplace = True)\n",
    "    return X\n"
   ]
  },
  {
   "cell_type": "code",
   "execution_count": 28,
   "metadata": {},
   "outputs": [],
   "source": [
    "def preprocess(train, test):\n",
    "    df_all = pd.concat([train,test])\n",
    "    category_cols = train.select_dtypes(exclude=[np.number]).columns.tolist()\n",
    "    for header in category_cols:\n",
    "#     df[header] = df[header].astype('category').cat.codes\n",
    "#     test[header] = test[header].astype('category').cat.codes\n",
    "        df_all[header] = df_all[header].astype('category').cat.codes.astype('int')\n",
    "        df_all[header] = pd.to_numeric(df_all[header])\n",
    "\n",
    "        train[header] = train[header].astype('category').cat.codes\n",
    "        train[header] = pd.to_numeric(train[header])\n",
    "        test[header] = test[header].astype('category').cat.codes\n",
    "        test[header] = pd.to_numeric(test[header])\n",
    "        \n",
    "        \n",
    "    over80, other = delete80na_col(train)\n",
    "    train_delete_over80 = train.drop(over80, axis = 1)\n",
    "        \n",
    "        \n",
    "    my_fillna(train_delete_over80)\n",
    "    test = test.reindex(columns = train_delete_over80.columns, fill_value = 0)\n",
    "    return train_delete_over80, test\n"
   ]
  },
  {
   "cell_type": "code",
   "execution_count": 5,
   "metadata": {},
   "outputs": [],
   "source": [
    "import preprocess2 as pre2"
   ]
  },
  {
   "cell_type": "code",
   "execution_count": 4,
   "metadata": {},
   "outputs": [],
   "source": [
    "train_prepro, test_prepro = pre.preprocess(train, test)"
   ]
  },
  {
   "cell_type": "code",
   "execution_count": 14,
   "metadata": {},
   "outputs": [],
   "source": [
    "from sklearn.model_selection import train_test_split\n",
    "\n",
    "def split_into_tr_te(train_prepro):\n",
    "    X = train_prepro.drop(['is_female','train_id'], axis = 1)\n",
    "    Y = train_prepro['is_female']\n",
    "    return train_test_split(X, Y, test_size=0.4, random_state=42)\n"
   ]
  },
  {
   "cell_type": "code",
   "execution_count": 15,
   "metadata": {},
   "outputs": [],
   "source": [
    "X_train, X_test, y_train, y_test = split_into_tr_te(train_prepro)\n",
    "# train_prepro"
   ]
  },
  {
   "cell_type": "markdown",
   "metadata": {},
   "source": [
    "## PCA"
   ]
  },
  {
   "cell_type": "code",
   "execution_count": 10,
   "metadata": {},
   "outputs": [
    {
     "ename": "NameError",
     "evalue": "name 'X' is not defined",
     "output_type": "error",
     "traceback": [
      "\u001b[0;31m---------------------------------------------------------------------------\u001b[0m",
      "\u001b[0;31mNameError\u001b[0m                                 Traceback (most recent call last)",
      "\u001b[0;32m<ipython-input-10-4d6ebc6bf7f3>\u001b[0m in \u001b[0;36m<module>\u001b[0;34m()\u001b[0m\n\u001b[1;32m      3\u001b[0m \u001b[0;31m# >>> X = np.array([[-1, -1], [-2, -1], [-3, -2], [1, 1], [2, 1], [3, 2]])\u001b[0m\u001b[0;34m\u001b[0m\u001b[0;34m\u001b[0m\u001b[0m\n\u001b[1;32m      4\u001b[0m \u001b[0mpca\u001b[0m \u001b[0;34m=\u001b[0m \u001b[0mPCA\u001b[0m\u001b[0;34m(\u001b[0m\u001b[0mn_components\u001b[0m\u001b[0;34m=\u001b[0m\u001b[0;36m2\u001b[0m\u001b[0;34m)\u001b[0m\u001b[0;34m\u001b[0m\u001b[0m\n\u001b[0;32m----> 5\u001b[0;31m \u001b[0mpca\u001b[0m\u001b[0;34m.\u001b[0m\u001b[0mfit\u001b[0m\u001b[0;34m(\u001b[0m\u001b[0mX\u001b[0m\u001b[0;34m)\u001b[0m\u001b[0;34m\u001b[0m\u001b[0m\n\u001b[0m\u001b[1;32m      6\u001b[0m PCA(copy=True, iterated_power='auto', n_components=10, random_state=None,\n\u001b[1;32m      7\u001b[0m   svd_solver='auto', tol=0.0, whiten=False)\n",
      "\u001b[0;31mNameError\u001b[0m: name 'X' is not defined"
     ]
    }
   ],
   "source": [
    "# >>> import numpy as np\n",
    "# >>> from sklearn.decomposition import PCA\n",
    "# # >>> X = np.array([[-1, -1], [-2, -1], [-3, -2], [1, 1], [2, 1], [3, 2]])\n",
    "# >>> pca = PCA(n_components=2)\n",
    "# >>> pca.fit(X)\n",
    "# PCA(copy=True, iterated_power='auto', n_components=10, random_state=None,\n",
    "#   svd_solver='auto', tol=0.0, whiten=False)\n",
    "# >>> print(pca.explained_variance_ratio_)  \n",
    "# # [ 0.99244...  0.00755...]\n",
    "# >>> print(pca.singular_values_)  \n",
    "# [ 6.30061...  0.54980...]\n"
   ]
  },
  {
   "cell_type": "code",
   "execution_count": 9,
   "metadata": {},
   "outputs": [
    {
     "data": {
      "text/plain": [
       "array([[ -31575.99623401,   -4716.54392315],\n",
       "       [  23320.58814842,   -5160.16423987],\n",
       "       [ 123884.89012002,   -5071.33601867],\n",
       "       ..., \n",
       "       [ -54751.73652027,   -4729.41072972],\n",
       "       [ 145436.85943249,   -5120.34091954],\n",
       "       [ 125312.15528735,   -5036.71675991]])"
      ]
     },
     "execution_count": 9,
     "metadata": {},
     "output_type": "execute_result"
    }
   ],
   "source": [
    "pca.transform(X)"
   ]
  },
  {
   "cell_type": "markdown",
   "metadata": {},
   "source": [
    "### try pca with feature selection"
   ]
  },
  {
   "cell_type": "code",
   "execution_count": 12,
   "metadata": {},
   "outputs": [],
   "source": [
    "from sklearn.pipeline import Pipeline, FeatureUnion\n",
    "from sklearn.model_selection import GridSearchCV\n",
    "from sklearn.svm import SVC\n",
    "from sklearn.datasets import load_iris\n",
    "from sklearn.decomposition import PCA\n",
    "from sklearn.feature_selection import SelectKBest"
   ]
  },
  {
   "cell_type": "code",
   "execution_count": 16,
   "metadata": {},
   "outputs": [
    {
     "name": "stderr",
     "output_type": "stream",
     "text": [
      "/usr/local/lib/python3.6/site-packages/sklearn/feature_selection/univariate_selection.py:113: UserWarning: Features [ 22  99 106 107 115 120 122 128 195 248 380 382] are constant.\n",
      "  UserWarning)\n",
      "/usr/local/lib/python3.6/site-packages/sklearn/feature_selection/univariate_selection.py:114: RuntimeWarning: invalid value encountered in true_divide\n",
      "  f = msb / msw\n"
     ]
    }
   ],
   "source": [
    "\n",
    "\n",
    "# This dataset is way too high-dimensional. Better do PCA:\n",
    "pca = PCA(n_components=2)\n",
    "\n",
    "# Maybe some original features where good, too?\n",
    "selection = SelectKBest(k=1)\n",
    "\n",
    "# Build estimator from PCA and Univariate selection:\n",
    "\n",
    "combined_features = FeatureUnion([(\"pca\", pca), (\"univ_select\", selection)])\n",
    "\n",
    "# Use combined features to transform dataset:\n",
    "X_features = combined_features.fit(X_train, y_train).transform(X_train)"
   ]
  },
  {
   "cell_type": "code",
   "execution_count": 41,
   "metadata": {},
   "outputs": [
    {
     "name": "stdout",
     "output_type": "stream",
     "text": [
      "<class 'pandas.core.frame.DataFrame'>\n"
     ]
    }
   ],
   "source": [
    "# X_feature = X_trian %*% W\n",
    "# W = X_train-1 8 X_feature\n",
    "m_X_train = X_train.as_matrix()\n",
    "# m_X_feature = X_features.as_matrix()\n",
    "# type(m_X_train)\n",
    "from numpy.linalg import pinv\n",
    "m_X_train_inv = pinv(m_X_train)\n",
    "\n",
    "W = np.matmul(m_X_train_inv, X_features)\n",
    "# print (m_X_train_inv.shape)\n",
    "# print (X_features)\n",
    "m_X_test = X_test.as_matrix()\n",
    "m_X_test_pca = np.matmul(m_X_test, W)\n",
    "# print (type(m_X_test_pca))\n",
    "X_test_pca = pd.DataFrame(m_X_test_pca)\n",
    "print (type(X_train))\n"
   ]
  },
  {
   "cell_type": "code",
   "execution_count": 19,
   "metadata": {},
   "outputs": [
    {
     "name": "stdout",
     "output_type": "stream",
     "text": [
      "(10953, 3)\n",
      "(10953, 410)\n"
     ]
    }
   ],
   "source": [
    "print (X_features.shape)\n",
    "print (X_train.shape)"
   ]
  },
  {
   "cell_type": "code",
   "execution_count": null,
   "metadata": {},
   "outputs": [],
   "source": []
  },
  {
   "cell_type": "code",
   "execution_count": null,
   "metadata": {},
   "outputs": [],
   "source": []
  },
  {
   "cell_type": "code",
   "execution_count": null,
   "metadata": {},
   "outputs": [],
   "source": []
  },
  {
   "cell_type": "code",
   "execution_count": null,
   "metadata": {},
   "outputs": [],
   "source": []
  },
  {
   "cell_type": "markdown",
   "metadata": {},
   "source": [
    "# Rate category"
   ]
  },
  {
   "cell_type": "markdown",
   "metadata": {},
   "source": [
    "indicative feature\n",
    "['DG5_9', 'DG6', 'DL0', 'DL1', 'DL2', 'DL4_22', 'G2P1_11', 'MT1A', 'MT17_6', 'MT18_4', 'MT18_5', 'FF14_3', 'FF14_4', 'FF14_5', 'FF14_6', 'MM38_14', 'MM40_14', 'FL3', 'GN2', 'GN3', 'GN5', 'DG1', 'DG8a', 'DG9a', 'FF7_5']\n",
    "'MM38_14'\n",
    "rate('GN2', 2)\n",
    "rate('FF14_6') 1\n",
    "rate('FF14_5')  1\n",
    "rate('FF14_4')  1\n",
    "rate('FF14_3') 1\n",
    "rate('MT18_5') 1\n",
    "rate('MT18_4') 1\n",
    "rate('GN5') 1 2\n",
    "decide later\n",
    "rate('MT17_6') "
   ]
  },
  {
   "cell_type": "code",
   "execution_count": 33,
   "metadata": {},
   "outputs": [
    {
     "data": {
      "text/plain": [
       "array([ nan,   0.,   2.,   1.,   4.])"
      ]
     },
     "execution_count": 33,
     "metadata": {},
     "output_type": "execute_result"
    }
   ],
   "source": [
    "train[\"GN5\"].unique()\n",
    "\n",
    "# function\n",
    "# train['FF7_5']\n",
    "def rate(s):\n",
    "    for value in range(len(train[s].unique())):\n",
    "        if len(train[train[s] == value]) != 0:\n",
    "            print (value, sum(train[train[s] == value][\"is_female\"])/len(train[train[s] == value]))\n",
    "    \n",
    "rate('GN5') \n",
    "\n",
    "\n",
    "# encoding category"
   ]
  },
  {
   "cell_type": "code",
   "execution_count": null,
   "metadata": {},
   "outputs": [],
   "source": []
  },
  {
   "cell_type": "markdown",
   "metadata": {},
   "source": [
    "# delete columns with over 80 percent NA"
   ]
  },
  {
   "cell_type": "markdown",
   "metadata": {},
   "source": [
    "## function print cols with na"
   ]
  },
  {
   "cell_type": "code",
   "execution_count": 1,
   "metadata": {},
   "outputs": [],
   "source": [
    "# def print_na_col(X):\n",
    "#     for col in list(X.columns.values):\n",
    "#         if X[col].isna().sum() > 0:\n",
    "#             print (col)\n",
    "# print_na_col(train_delete_over80)\n",
    "\n",
    "# def print_na_header(X):\n",
    "#     for head in list(X.columns.values):\n",
    "#         if head.isna():\n",
    "#             print (head)\n",
    "# print_na_header(train_delete_over80)\n"
   ]
  },
  {
   "cell_type": "code",
   "execution_count": 2,
   "metadata": {},
   "outputs": [],
   "source": [
    "#train_delete_over80['AA6']"
   ]
  },
  {
   "cell_type": "markdown",
   "metadata": {},
   "source": [
    "# delete columns with text"
   ]
  },
  {
   "cell_type": "code",
   "execution_count": null,
   "metadata": {},
   "outputs": [],
   "source": [
    "# lst = []\n",
    "# acc = 0\n",
    "# for i in (train.dtypes):\n",
    "#     if str(i) == \"object\":\n",
    "#         lst.append(acc)\n",
    "#     acc = acc+1\n",
    "    \n",
    "# lst2 = []\n",
    "# for i in lst:\n",
    "#     lst2.append(train.dtypes.keys()[i])"
   ]
  },
  {
   "cell_type": "code",
   "execution_count": null,
   "metadata": {},
   "outputs": [],
   "source": []
  },
  {
   "cell_type": "markdown",
   "metadata": {},
   "source": [
    "## replace nan with average"
   ]
  },
  {
   "cell_type": "code",
   "execution_count": null,
   "metadata": {},
   "outputs": [],
   "source": []
  },
  {
   "cell_type": "code",
   "execution_count": 42,
   "metadata": {},
   "outputs": [],
   "source": [
    "from sklearn.ensemble import RandomForestClassifier\n",
    "TARGET = \"is_female\""
   ]
  },
  {
   "cell_type": "code",
   "execution_count": 43,
   "metadata": {},
   "outputs": [
    {
     "data": {
      "text/plain": [
       "RandomForestClassifier(bootstrap=True, class_weight=None, criterion='gini',\n",
       "            max_depth=None, max_features='auto', max_leaf_nodes=None,\n",
       "            min_impurity_decrease=0.0, min_impurity_split=None,\n",
       "            min_samples_leaf=1, min_samples_split=2,\n",
       "            min_weight_fraction_leaf=0.0, n_estimators=500, n_jobs=1,\n",
       "            oob_score=False, random_state=1234, verbose=0,\n",
       "            warm_start=False)"
      ]
     },
     "execution_count": 43,
     "metadata": {},
     "output_type": "execute_result"
    }
   ],
   "source": [
    "Ntree = 500\n",
    "clf = RandomForestClassifier(n_estimators=Ntree,random_state=1234)\n",
    "clf.fit(X_features, y_train)"
   ]
  },
  {
   "cell_type": "code",
   "execution_count": 44,
   "metadata": {},
   "outputs": [
    {
     "name": "stdout",
     "output_type": "stream",
     "text": [
      "[[2360 1035]\n",
      " [ 896 3011]]\n"
     ]
    }
   ],
   "source": [
    "y_pred = clf.predict(X_test_pca)\n",
    "from sklearn.metrics import confusion_matrix\n",
    "cm = confusion_matrix(y_test, y_pred)\n",
    "print (cm)"
   ]
  },
  {
   "cell_type": "code",
   "execution_count": 45,
   "metadata": {},
   "outputs": [
    {
     "data": {
      "text/plain": [
       "array([0, 0, 1, ..., 0, 1, 0])"
      ]
     },
     "execution_count": 45,
     "metadata": {},
     "output_type": "execute_result"
    }
   ],
   "source": [
    "y_pred"
   ]
  },
  {
   "cell_type": "code",
   "execution_count": 47,
   "metadata": {},
   "outputs": [],
   "source": [
    "y_prob = clf.predict_proba(X_test_pca)"
   ]
  },
  {
   "cell_type": "code",
   "execution_count": 48,
   "metadata": {},
   "outputs": [
    {
     "data": {
      "text/plain": [
       "array([[ 0.986,  0.014],\n",
       "       [ 0.564,  0.436],\n",
       "       [ 0.488,  0.512],\n",
       "       ..., \n",
       "       [ 0.87 ,  0.13 ],\n",
       "       [ 0.006,  0.994],\n",
       "       [ 0.944,  0.056]])"
      ]
     },
     "execution_count": 48,
     "metadata": {},
     "output_type": "execute_result"
    }
   ],
   "source": [
    "y_prob"
   ]
  },
  {
   "cell_type": "code",
   "execution_count": 49,
   "metadata": {},
   "outputs": [],
   "source": [
    "from sklearn import metrics"
   ]
  },
  {
   "cell_type": "code",
   "execution_count": 50,
   "metadata": {},
   "outputs": [
    {
     "data": {
      "text/plain": [
       "0.79406838599801799"
      ]
     },
     "execution_count": 50,
     "metadata": {},
     "output_type": "execute_result"
    }
   ],
   "source": [
    "metrics.roc_auc_score(y_test, y_prob[:,1])"
   ]
  },
  {
   "cell_type": "code",
   "execution_count": 25,
   "metadata": {
    "collapsed": true
   },
   "outputs": [],
   "source": [
    "# feature selection\n",
    "from sklearn.feature_selection import SelectKBest"
   ]
  },
  {
   "cell_type": "code",
   "execution_count": 73,
   "metadata": {},
   "outputs": [
    {
     "data": {
      "text/plain": [
       "64"
      ]
     },
     "execution_count": 73,
     "metadata": {},
     "output_type": "execute_result"
    }
   ],
   "source": [
    "train[[\"is_female\",\"MM28\"]][:50]\n",
    "a = train[[\"is_female\",\"MM31_9\"]].loc[train[\"MM31_9\"] == 2.0]\n",
    "# a.groupby([\"MM31_9\",\"is_female\"]).value\n",
    "# a.pivot(index='is_female', columns='MM31_9')\n",
    "sum(train[\"is_female\"].loc[train[\"MM31_9\"] == 2.0])\n",
    "len(train[\"is_female\"].loc[train[\"MM31_9\"] == 2.0])"
   ]
  },
  {
   "cell_type": "code",
   "execution_count": 74,
   "metadata": {},
   "outputs": [
    {
     "data": {
      "text/plain": [
       "Index(['AA3', 'AA4', 'AA7', 'AA14', 'AA15', 'DG1', 'DG3', 'DG3A', 'DG4',\n",
       "       'DG5_1',\n",
       "       ...\n",
       "       'LN1A', 'LN1B', 'LN2_1', 'LN2_2', 'LN2_3', 'LN2_4', 'GN2', 'GN3', 'GN4',\n",
       "       'GN5'],\n",
       "      dtype='object', length=237)"
      ]
     },
     "execution_count": 74,
     "metadata": {},
     "output_type": "execute_result"
    }
   ],
   "source": [
    "X.columns"
   ]
  },
  {
   "cell_type": "code",
   "execution_count": 77,
   "metadata": {},
   "outputs": [
    {
     "data": {
      "text/plain": [
       "[0.0,\n",
       " 2.5308194883818775e-06,\n",
       " 2.8699922725177057e-06,\n",
       " 7.7351872073187215e-06,\n",
       " 9.0457861986758171e-06,\n",
       " 1.0696567464831093e-05,\n",
       " 1.1487894791318577e-05,\n",
       " 1.2154996715974923e-05,\n",
       " 1.2157281351453624e-05,\n",
       " 1.3775475974014467e-05,\n",
       " 1.4368418196152514e-05,\n",
       " 1.4770180298541072e-05,\n",
       " 1.8426274781264229e-05,\n",
       " 1.9450911752970867e-05,\n",
       " 2.3538961248779397e-05,\n",
       " 2.4867387551159507e-05,\n",
       " 2.5598050578228686e-05,\n",
       " 2.7164529920667378e-05,\n",
       " 3.2722399162158611e-05,\n",
       " 3.7451479316742632e-05,\n",
       " 3.9813480768029011e-05,\n",
       " 4.1023970347847128e-05,\n",
       " 4.4705681176936932e-05,\n",
       " 4.5119014672365827e-05,\n",
       " 5.02161016285769e-05,\n",
       " 5.1234798943489909e-05,\n",
       " 5.4350105813450348e-05,\n",
       " 5.7963242735490312e-05,\n",
       " 5.8838588549038493e-05,\n",
       " 6.2870704630045256e-05,\n",
       " 6.7792425365157842e-05,\n",
       " 7.0140194292703917e-05,\n",
       " 7.180208699541169e-05,\n",
       " 7.2477467996036947e-05,\n",
       " 7.7568975843250797e-05,\n",
       " 8.033077388119964e-05,\n",
       " 8.0999134108799452e-05,\n",
       " 9.2041024639323061e-05,\n",
       " 9.4660920303399763e-05,\n",
       " 0.00010408703901697832,\n",
       " 0.00011077250602151041,\n",
       " 0.00011656864510548134,\n",
       " 0.00012268177880656617,\n",
       " 0.00012646909590992983,\n",
       " 0.00015149496159154213,\n",
       " 0.00015202914938560719,\n",
       " 0.00015273047035978886,\n",
       " 0.0001757268948515564,\n",
       " 0.00018125139349009582,\n",
       " 0.00018603037082797833,\n",
       " 0.00019276655793235302,\n",
       " 0.00019877796832278006,\n",
       " 0.00021830799238071192,\n",
       " 0.00021912748714661651,\n",
       " 0.00022203726031348264,\n",
       " 0.00024165588969229357,\n",
       " 0.00024232427129016281,\n",
       " 0.00026358830093911812,\n",
       " 0.00027205473584075333,\n",
       " 0.00027291390657152982,\n",
       " 0.00030815028686720163,\n",
       " 0.00031197147633919511,\n",
       " 0.00031652724035677467,\n",
       " 0.00032454683435851283,\n",
       " 0.00032465264316214196,\n",
       " 0.00032500742668612885,\n",
       " 0.00034187411302313055,\n",
       " 0.00035968181962190701,\n",
       " 0.00036411503663178976,\n",
       " 0.00037610177473563306,\n",
       " 0.00038940275810198918,\n",
       " 0.00040325574183967068,\n",
       " 0.00040875221747238799,\n",
       " 0.00042271577722499838,\n",
       " 0.00043243089766428083,\n",
       " 0.00043795252105066488,\n",
       " 0.00044067229464352136,\n",
       " 0.00046268102130911956,\n",
       " 0.00046415580546591343,\n",
       " 0.00048171411194802008,\n",
       " 0.00048372589457814128,\n",
       " 0.00049594164951315763,\n",
       " 0.00051515567938096977,\n",
       " 0.00052539870870030303,\n",
       " 0.00052567753142862203,\n",
       " 0.00054587364383779883,\n",
       " 0.00056785824362098891,\n",
       " 0.00058822609554331432,\n",
       " 0.00060728016460265635,\n",
       " 0.00062154512916870192,\n",
       " 0.00066639522207852513,\n",
       " 0.0006668924885450835,\n",
       " 0.00070346711522374238,\n",
       " 0.00071360944030247322,\n",
       " 0.00073755282731796309,\n",
       " 0.00073995931397674954,\n",
       " 0.00079520506393735053,\n",
       " 0.00081832029474832979,\n",
       " 0.00083868431840295723,\n",
       " 0.00085277862352300113,\n",
       " 0.00086086162540259937,\n",
       " 0.00093733833280912901,\n",
       " 0.0009463601461007832,\n",
       " 0.00096239564923572768,\n",
       " 0.00096289060063304741,\n",
       " 0.00096509837189330679,\n",
       " 0.00097302694047831208,\n",
       " 0.00099351190415040069,\n",
       " 0.00099930285007598712,\n",
       " 0.0010046503705072446,\n",
       " 0.0010442019324552246,\n",
       " 0.0010566319447767906,\n",
       " 0.0010988394221841172,\n",
       " 0.0011071823390736892,\n",
       " 0.0011375853316712785,\n",
       " 0.0012788766120920318,\n",
       " 0.0012811696728959629,\n",
       " 0.0013250914482218334,\n",
       " 0.0013491357542745495,\n",
       " 0.0013700195096278704,\n",
       " 0.0014071569315602837,\n",
       " 0.0014662259449214178,\n",
       " 0.0014899063201586204,\n",
       " 0.0015090909622610892,\n",
       " 0.0016353472681544651,\n",
       " 0.0016531175626566838,\n",
       " 0.0016664396708008823,\n",
       " 0.0016817456417123843,\n",
       " 0.0017145426167847685,\n",
       " 0.0017746636938597308,\n",
       " 0.0018180551562369928,\n",
       " 0.0018182789881507561,\n",
       " 0.0018239254880504777,\n",
       " 0.0018537307492421926,\n",
       " 0.0018858803157630142,\n",
       " 0.0019446794973589257,\n",
       " 0.0019683505639682894,\n",
       " 0.0020037707258058648,\n",
       " 0.0020154487599816466,\n",
       " 0.0020379333582440668,\n",
       " 0.0020480008055685939,\n",
       " 0.0020599248210722665,\n",
       " 0.0020777211173778052,\n",
       " 0.0020853244809200251,\n",
       " 0.00214304399497046,\n",
       " 0.0021858682259576546,\n",
       " 0.0022087919432818557,\n",
       " 0.0022365038868394347,\n",
       " 0.0022521922337116426,\n",
       " 0.0022534475670788912,\n",
       " 0.0022665488589529541,\n",
       " 0.0022736590597541594,\n",
       " 0.0022918795311269854,\n",
       " 0.0023277914235338508,\n",
       " 0.0023298523899108969,\n",
       " 0.00236365120391856,\n",
       " 0.0023637444654183576,\n",
       " 0.0023834388678263137,\n",
       " 0.0024108536531473046,\n",
       " 0.0024384487667104275,\n",
       " 0.0024658099313110251,\n",
       " 0.0024941020043734784,\n",
       " 0.002500966215548231,\n",
       " 0.0025162528328705443,\n",
       " 0.0025601698687678074,\n",
       " 0.0025817736224289689,\n",
       " 0.002608547309450412,\n",
       " 0.0026362171030399118,\n",
       " 0.0026771216264326837,\n",
       " 0.0027083327804936913,\n",
       " 0.0027471785027481134,\n",
       " 0.0027608737596443835,\n",
       " 0.0027629495413720503,\n",
       " 0.0028807346373912954,\n",
       " 0.0031986467404954162,\n",
       " 0.003313678003310218,\n",
       " 0.0034663124140175152,\n",
       " 0.0035771635088120636,\n",
       " 0.0037436376805572466,\n",
       " 0.0038496035963441369,\n",
       " 0.0038555943396866698,\n",
       " 0.0039300070993111714,\n",
       " 0.0039434422863596557,\n",
       " 0.0041484138906817663,\n",
       " 0.0042937535215789215,\n",
       " 0.0043029159865961659,\n",
       " 0.0044426090550545375,\n",
       " 0.0044450036101122796,\n",
       " 0.0045846315826170636,\n",
       " 0.0050412203076111864,\n",
       " 0.0051532012639818976,\n",
       " 0.0051684942976774366,\n",
       " 0.0052236857142571652,\n",
       " 0.0052644309298420962,\n",
       " 0.0052702570265237055,\n",
       " 0.0053041925646975796,\n",
       " 0.0053855909805672559,\n",
       " 0.00541718524376264,\n",
       " 0.0055058328489081265,\n",
       " 0.0055499218025527241,\n",
       " 0.005575409543209414,\n",
       " 0.0056356365062464071,\n",
       " 0.0056528555125685597,\n",
       " 0.0056964289186248549,\n",
       " 0.0057255759797018137,\n",
       " 0.006081893467877659,\n",
       " 0.0064801822839015231,\n",
       " 0.0065430205317519889,\n",
       " 0.0065937904949508359,\n",
       " 0.0065941252199397046,\n",
       " 0.0069762186064682976,\n",
       " 0.0069842031776131833,\n",
       " 0.0075838529281754552,\n",
       " 0.0078971071519853518,\n",
       " 0.0078995768023322477,\n",
       " 0.008698043530257573,\n",
       " 0.010831129277860143,\n",
       " 0.011176612435930478,\n",
       " 0.014444746311001917,\n",
       " 0.014651491325902584,\n",
       " 0.015252565794412185,\n",
       " 0.015334792059947089,\n",
       " 0.015356265514818159,\n",
       " 0.016079432367479864,\n",
       " 0.020777725642719173,\n",
       " 0.022439449836236639,\n",
       " 0.022776089815733501,\n",
       " 0.023802008646474464,\n",
       " 0.024157019839325083,\n",
       " 0.025569822126810297,\n",
       " 0.028554163920784668,\n",
       " 0.03541789719336931,\n",
       " 0.075349708989722111,\n",
       " 0.10367441758941806,\n",
       " 0.11546906914365694]"
      ]
     },
     "execution_count": 77,
     "metadata": {},
     "output_type": "execute_result"
    }
   ],
   "source": [
    "dic ={}\n",
    "for feature in zip(X.columns, clf.feature_importances_):\n",
    "    dic[feature[1]] = feature[0]\n",
    "sorted(dic.keys())"
   ]
  },
  {
   "cell_type": "code",
   "execution_count": 78,
   "metadata": {},
   "outputs": [
    {
     "data": {
      "text/plain": [
       "'DL0'"
      ]
     },
     "execution_count": 78,
     "metadata": {},
     "output_type": "execute_result"
    }
   ],
   "source": [
    "dic[0.11546906914365694]"
   ]
  },
  {
   "cell_type": "code",
   "execution_count": 117,
   "metadata": {},
   "outputs": [
    {
     "data": {
      "text/plain": [
       "['DL14',\n",
       " 'DG5_4',\n",
       " 'AA15',\n",
       " 'AA14',\n",
       " 'DG8a',\n",
       " 'AA7',\n",
       " 'DG4',\n",
       " 'GN2',\n",
       " 'DG1',\n",
       " 'MT10',\n",
       " 'GN3',\n",
       " 'GN5',\n",
       " 'MT2',\n",
       " 'GN4',\n",
       " 'DG3',\n",
       " 'FL4',\n",
       " 'DL1',\n",
       " 'DG6',\n",
       " 'DL0']"
      ]
     },
     "execution_count": 117,
     "metadata": {},
     "output_type": "execute_result"
    }
   ],
   "source": [
    "lst = []\n",
    "for i in sorted(dic.keys()):\n",
    "    if i>0.01:\n",
    "        lst.append(dic[i])\n",
    "lst"
   ]
  },
  {
   "cell_type": "code",
   "execution_count": 82,
   "metadata": {},
   "outputs": [],
   "source": [
    "X_new = train[lst]\n",
    "Y_new = train.is_female\n",
    "# test_new = test.reindex[lst]\n",
    "\n",
    "x_n_train, x_n_test, y_n_train, y_n_test = train_test_split(X_new, Y_new, test_size=0.4, random_state=42)\n",
    "\n",
    "Ntree = 500\n",
    "clf = RandomForestClassifier(n_estimators=Ntree,random_state=1234)\n",
    "clf.fit(x_n_train, y_n_train)\n",
    "\n",
    "y_pred = clf.predict(x_n_test)\n",
    "\n",
    "cm = confusion_matrix(y_n_test, y_pred)\n",
    "print (cm)\n",
    "\n",
    "y_prob = clf.predict_proba(x_n_test)\n",
    "metrics.roc_auc_score(y_n_test, y_prob[:,1])\n",
    "\n",
    "test_n = test.reindex(columns = x_n_test.columns)\n",
    "\n",
    "y_pred_f1 = clf.predict(test_n)\n",
    "y_prob = clf.predict_proba(test_n)\n"
   ]
  },
  {
   "cell_type": "code",
   "execution_count": 90,
   "metadata": {},
   "outputs": [
    {
     "data": {
      "text/plain": [
       "array([[ 0.004,  0.996],\n",
       "       [ 0.85 ,  0.15 ],\n",
       "       [ 0.01 ,  0.99 ],\n",
       "       ..., \n",
       "       [ 0.998,  0.002],\n",
       "       [ 0.468,  0.532],\n",
       "       [ 0.24 ,  0.76 ]])"
      ]
     },
     "execution_count": 90,
     "metadata": {},
     "output_type": "execute_result"
    }
   ],
   "source": [
    "y_prob"
   ]
  },
  {
   "cell_type": "code",
   "execution_count": 91,
   "metadata": {},
   "outputs": [],
   "source": [
    "import csv\n"
   ]
  },
  {
   "cell_type": "code",
   "execution_count": 99,
   "metadata": {},
   "outputs": [],
   "source": [
    "with open(\"submit.csv\",'w') as f:\n",
    "    fieldnames = [\"test_id\",\"is_female\"]\n",
    "    wri = csv.DictWriter(f, delimiter=',',fieldnames= fieldnames)\n",
    "    acc = 0\n",
    "    wri.writeheader()\n",
    "    for i in y_prob:\n",
    "        wri.writerow({\"test_id\":acc, \"is_female\": i[1]})\n",
    "        acc = acc+1"
   ]
  },
  {
   "cell_type": "code",
   "execution_count": 100,
   "metadata": {},
   "outputs": [],
   "source": [
    "t = pd.read_csv(\"submit.csv\")"
   ]
  },
  {
   "cell_type": "code",
   "execution_count": 104,
   "metadata": {},
   "outputs": [],
   "source": []
  },
  {
   "cell_type": "code",
   "execution_count": 120,
   "metadata": {},
   "outputs": [],
   "source": [
    "new_feature = pd.read_csv(\"new_feature.csv\")\n",
    "new_feature = new_feature[\"Column Name\"].tolist()\n",
    "# new_feature  "
   ]
  },
  {
   "cell_type": "code",
   "execution_count": 122,
   "metadata": {},
   "outputs": [],
   "source": [
    "lst = lst + new_feature\n"
   ]
  },
  {
   "cell_type": "code",
   "execution_count": 124,
   "metadata": {},
   "outputs": [],
   "source": [
    "newlist = lst"
   ]
  },
  {
   "cell_type": "code",
   "execution_count": 127,
   "metadata": {},
   "outputs": [],
   "source": [
    "from sklearn.preprocessing import Imputer\n",
    "imp = Imputer(missing_values=\"NaN\", strategy = \"mean\", axis = 1)\n",
    "imp = imp.fit(train[newlist])"
   ]
  },
  {
   "cell_type": "code",
   "execution_count": null,
   "metadata": {
    "collapsed": true
   },
   "outputs": [],
   "source": [
    "X_new = imp.transform(train[newlist])\n",
    "Y_new = train.is_female\n",
    "# test_new = test.reindex[lst]\n",
    "\n",
    "x_n_train, x_n_test, y_n_train, y_n_test = train_test_split(X_new, Y_new, test_size=0.4, random_state=42)\n",
    "\n",
    "Ntree = 500\n",
    "clf = RandomForestClassifier(n_estimators=Ntree,random_state=1234)\n",
    "clf.fit(x_n_train, y_n_train)\n",
    "\n",
    "y_pred = clf.predict(x_n_test)\n",
    "\n",
    "cm = confusion_matrix(y_n_test, y_pred)\n",
    "print (cm)\n",
    "\n",
    "y_prob = clf.predict_proba(x_n_test)\n",
    "print(metrics.roc_auc_score(y_n_test, y_prob[:,1]))"
   ]
  },
  {
   "cell_type": "code",
   "execution_count": 135,
   "metadata": {},
   "outputs": [
    {
     "ename": "ValueError",
     "evalue": "could not convert string to float: 'My child'",
     "output_type": "error",
     "traceback": [
      "\u001b[0;31m---------------------------------------------------------------------------\u001b[0m",
      "\u001b[0;31mValueError\u001b[0m                                Traceback (most recent call last)",
      "\u001b[0;32m<ipython-input-135-ec6a3a86df0d>\u001b[0m in \u001b[0;36m<module>\u001b[0;34m()\u001b[0m\n\u001b[1;32m      1\u001b[0m \u001b[0mtest_n\u001b[0m \u001b[0;34m=\u001b[0m \u001b[0mtest\u001b[0m\u001b[0;34m.\u001b[0m\u001b[0mreindex\u001b[0m\u001b[0;34m(\u001b[0m\u001b[0mcolumns\u001b[0m \u001b[0;34m=\u001b[0m \u001b[0mnewlist\u001b[0m\u001b[0;34m)\u001b[0m\u001b[0;34m\u001b[0m\u001b[0m\n\u001b[1;32m      2\u001b[0m \u001b[0mimp\u001b[0m \u001b[0;34m=\u001b[0m \u001b[0mimp\u001b[0m\u001b[0;34m.\u001b[0m\u001b[0mfit\u001b[0m\u001b[0;34m(\u001b[0m\u001b[0mtest\u001b[0m\u001b[0;34m)\u001b[0m\u001b[0;34m\u001b[0m\u001b[0m\n\u001b[0;32m----> 3\u001b[0;31m \u001b[0mtest\u001b[0m \u001b[0;34m=\u001b[0m \u001b[0mimp\u001b[0m\u001b[0;34m.\u001b[0m\u001b[0mtransform\u001b[0m\u001b[0;34m(\u001b[0m\u001b[0mtest\u001b[0m\u001b[0;34m)\u001b[0m\u001b[0;34m\u001b[0m\u001b[0m\n\u001b[0m\u001b[1;32m      4\u001b[0m \u001b[0;34m\u001b[0m\u001b[0m\n\u001b[1;32m      5\u001b[0m \u001b[0;34m\u001b[0m\u001b[0m\n",
      "\u001b[0;32m/usr/local/lib/python3.6/site-packages/sklearn/preprocessing/imputation.py\u001b[0m in \u001b[0;36mtransform\u001b[0;34m(self, X)\u001b[0m\n\u001b[1;32m    321\u001b[0m         \u001b[0;32melse\u001b[0m\u001b[0;34m:\u001b[0m\u001b[0;34m\u001b[0m\u001b[0m\n\u001b[1;32m    322\u001b[0m             X = check_array(X, accept_sparse='csr', dtype=FLOAT_DTYPES,\n\u001b[0;32m--> 323\u001b[0;31m                             force_all_finite=False, copy=self.copy)\n\u001b[0m\u001b[1;32m    324\u001b[0m \u001b[0;34m\u001b[0m\u001b[0m\n\u001b[1;32m    325\u001b[0m             \u001b[0;32mif\u001b[0m \u001b[0msparse\u001b[0m\u001b[0;34m.\u001b[0m\u001b[0missparse\u001b[0m\u001b[0;34m(\u001b[0m\u001b[0mX\u001b[0m\u001b[0;34m)\u001b[0m\u001b[0;34m:\u001b[0m\u001b[0;34m\u001b[0m\u001b[0m\n",
      "\u001b[0;32m/usr/local/lib/python3.6/site-packages/sklearn/utils/validation.py\u001b[0m in \u001b[0;36mcheck_array\u001b[0;34m(array, accept_sparse, dtype, order, copy, force_all_finite, ensure_2d, allow_nd, ensure_min_samples, ensure_min_features, warn_on_dtype, estimator)\u001b[0m\n\u001b[1;32m    448\u001b[0m             \u001b[0;32mtry\u001b[0m\u001b[0;34m:\u001b[0m\u001b[0;34m\u001b[0m\u001b[0m\n\u001b[1;32m    449\u001b[0m                 \u001b[0mwarnings\u001b[0m\u001b[0;34m.\u001b[0m\u001b[0msimplefilter\u001b[0m\u001b[0;34m(\u001b[0m\u001b[0;34m'error'\u001b[0m\u001b[0;34m,\u001b[0m \u001b[0mComplexWarning\u001b[0m\u001b[0;34m)\u001b[0m\u001b[0;34m\u001b[0m\u001b[0m\n\u001b[0;32m--> 450\u001b[0;31m                 \u001b[0marray\u001b[0m \u001b[0;34m=\u001b[0m \u001b[0mnp\u001b[0m\u001b[0;34m.\u001b[0m\u001b[0marray\u001b[0m\u001b[0;34m(\u001b[0m\u001b[0marray\u001b[0m\u001b[0;34m,\u001b[0m \u001b[0mdtype\u001b[0m\u001b[0;34m=\u001b[0m\u001b[0mdtype\u001b[0m\u001b[0;34m,\u001b[0m \u001b[0morder\u001b[0m\u001b[0;34m=\u001b[0m\u001b[0morder\u001b[0m\u001b[0;34m,\u001b[0m \u001b[0mcopy\u001b[0m\u001b[0;34m=\u001b[0m\u001b[0mcopy\u001b[0m\u001b[0;34m)\u001b[0m\u001b[0;34m\u001b[0m\u001b[0m\n\u001b[0m\u001b[1;32m    451\u001b[0m             \u001b[0;32mexcept\u001b[0m \u001b[0mComplexWarning\u001b[0m\u001b[0;34m:\u001b[0m\u001b[0;34m\u001b[0m\u001b[0m\n\u001b[1;32m    452\u001b[0m                 raise ValueError(\"Complex data not supported\\n\"\n",
      "\u001b[0;31mValueError\u001b[0m: could not convert string to float: 'My child'"
     ]
    }
   ],
   "source": [
    "test_n = test.reindex(columns = newlist)\n",
    "imp = imp.fit(test)\n",
    "test = imp.transform(test)\n",
    "\n",
    "\n",
    "y_pred_f1 = clf.predict(test_n)\n",
    "y_prob = clf.predict_proba(test_n)"
   ]
  },
  {
   "cell_type": "markdown",
   "metadata": {},
   "source": [
    "## try emsemble models!!!"
   ]
  },
  {
   "cell_type": "code",
   "execution_count": 116,
   "metadata": {},
   "outputs": [],
   "source": [
    "from sklearn.model_selection import cross_val_score\n",
    ">>> from sklearn.ensemble import BaggingClassifier\n",
    ">>> from sklearn.neighbors import KNeighborsClassifier\n",
    ">>> bagging = BaggingClassifier(KNeighborsClassifier(),\n",
    "...                             max_samples=0.5, max_features=0.5)"
   ]
  },
  {
   "cell_type": "code",
   "execution_count": null,
   "metadata": {},
   "outputs": [],
   "source": [
    "scores = cross_val_score(bagging, X, y)"
   ]
  }
 ],
 "metadata": {
  "kernelspec": {
   "display_name": "Python 3",
   "language": "python",
   "name": "python3"
  },
  "language_info": {
   "codemirror_mode": {
    "name": "ipython",
    "version": 3
   },
   "file_extension": ".py",
   "mimetype": "text/x-python",
   "name": "python",
   "nbconvert_exporter": "python",
   "pygments_lexer": "ipython3",
   "version": "3.6.3"
  }
 },
 "nbformat": 4,
 "nbformat_minor": 2
}
