{
 "cells": [
  {
   "cell_type": "code",
   "execution_count": 1,
   "metadata": {
    "collapsed": true
   },
   "outputs": [],
   "source": [
    "from sklearn.model_selection import train_test_split\n",
    "from sklearn import metrics\n",
    "from sklearn.feature_selection import SelectKBest\n",
    "from sklearn.ensemble import RandomForestClassifier\n",
    "from sklearn.preprocessing import StandardScaler\n",
    "import pandas as pd\n",
    "import numpy as np\n",
    "from sklearn.metrics import confusion_matrix\n",
    "from copy import deepcopy\n",
    "\n",
    "from selfea import * "
   ]
  },
  {
   "cell_type": "code",
   "execution_count": 2,
   "metadata": {},
   "outputs": [
    {
     "name": "stdout",
     "output_type": "stream",
     "text": [
      "start reading data\n",
      "read train\n",
      "read test\n",
      "finished\n"
     ]
    }
   ],
   "source": [
    "DataInit = InitData()"
   ]
  },
  {
   "cell_type": "code",
   "execution_count": 3,
   "metadata": {
    "collapsed": true
   },
   "outputs": [],
   "source": [
    "train = DataInit.get_train(False)\n",
    "test = DataInit.get_test(False)"
   ]
  },
  {
   "cell_type": "code",
   "execution_count": 4,
   "metadata": {},
   "outputs": [
    {
     "data": {
      "text/html": [
       "<div>\n",
       "<style>\n",
       "    .dataframe thead tr:only-child th {\n",
       "        text-align: right;\n",
       "    }\n",
       "\n",
       "    .dataframe thead th {\n",
       "        text-align: left;\n",
       "    }\n",
       "\n",
       "    .dataframe tbody tr th {\n",
       "        vertical-align: top;\n",
       "    }\n",
       "</style>\n",
       "<table border=\"1\" class=\"dataframe\">\n",
       "  <thead>\n",
       "    <tr style=\"text-align: right;\">\n",
       "      <th></th>\n",
       "      <th>train_id</th>\n",
       "      <th>AA3</th>\n",
       "      <th>AA4</th>\n",
       "      <th>AA5</th>\n",
       "      <th>AA6</th>\n",
       "      <th>AA7</th>\n",
       "      <th>AA14</th>\n",
       "      <th>AA15</th>\n",
       "      <th>DG1</th>\n",
       "      <th>is_female</th>\n",
       "      <th>...</th>\n",
       "      <th>MT1A_f</th>\n",
       "      <th>DL2_new</th>\n",
       "      <th>G2P1_11_new</th>\n",
       "      <th>GN2_new</th>\n",
       "      <th>FF14_6_new</th>\n",
       "      <th>FF14_5_new</th>\n",
       "      <th>FF14_4_new</th>\n",
       "      <th>FF14_3_new</th>\n",
       "      <th>MT18_5_new</th>\n",
       "      <th>MT18_4_new</th>\n",
       "    </tr>\n",
       "  </thead>\n",
       "  <tbody>\n",
       "    <tr>\n",
       "      <th>0</th>\n",
       "      <td>0</td>\n",
       "      <td>3</td>\n",
       "      <td>32</td>\n",
       "      <td>3.0</td>\n",
       "      <td>NaN</td>\n",
       "      <td>323011</td>\n",
       "      <td>3854</td>\n",
       "      <td>481</td>\n",
       "      <td>1975</td>\n",
       "      <td>1</td>\n",
       "      <td>...</td>\n",
       "      <td>0.0</td>\n",
       "      <td>1</td>\n",
       "      <td>2.0</td>\n",
       "      <td>0.0</td>\n",
       "      <td>2.0</td>\n",
       "      <td>2.0</td>\n",
       "      <td>2.0</td>\n",
       "      <td>2.0</td>\n",
       "      <td>2.0</td>\n",
       "      <td>2.0</td>\n",
       "    </tr>\n",
       "    <tr>\n",
       "      <th>1</th>\n",
       "      <td>1</td>\n",
       "      <td>2</td>\n",
       "      <td>26</td>\n",
       "      <td>NaN</td>\n",
       "      <td>8.0</td>\n",
       "      <td>268131</td>\n",
       "      <td>2441</td>\n",
       "      <td>344</td>\n",
       "      <td>1981</td>\n",
       "      <td>1</td>\n",
       "      <td>...</td>\n",
       "      <td>0.0</td>\n",
       "      <td>1</td>\n",
       "      <td>2.0</td>\n",
       "      <td>0.0</td>\n",
       "      <td>2.0</td>\n",
       "      <td>2.0</td>\n",
       "      <td>2.0</td>\n",
       "      <td>2.0</td>\n",
       "      <td>2.0</td>\n",
       "      <td>2.0</td>\n",
       "    </tr>\n",
       "    <tr>\n",
       "      <th>2</th>\n",
       "      <td>2</td>\n",
       "      <td>1</td>\n",
       "      <td>16</td>\n",
       "      <td>NaN</td>\n",
       "      <td>7.0</td>\n",
       "      <td>167581</td>\n",
       "      <td>754</td>\n",
       "      <td>143</td>\n",
       "      <td>1995</td>\n",
       "      <td>1</td>\n",
       "      <td>...</td>\n",
       "      <td>1.0</td>\n",
       "      <td>1</td>\n",
       "      <td>2.0</td>\n",
       "      <td>1.0</td>\n",
       "      <td>2.0</td>\n",
       "      <td>2.0</td>\n",
       "      <td>2.0</td>\n",
       "      <td>2.0</td>\n",
       "      <td>2.0</td>\n",
       "      <td>2.0</td>\n",
       "    </tr>\n",
       "    <tr>\n",
       "      <th>3</th>\n",
       "      <td>3</td>\n",
       "      <td>4</td>\n",
       "      <td>44</td>\n",
       "      <td>5.0</td>\n",
       "      <td>NaN</td>\n",
       "      <td>445071</td>\n",
       "      <td>5705</td>\n",
       "      <td>604</td>\n",
       "      <td>1980</td>\n",
       "      <td>1</td>\n",
       "      <td>...</td>\n",
       "      <td>1.0</td>\n",
       "      <td>1</td>\n",
       "      <td>2.0</td>\n",
       "      <td>1.0</td>\n",
       "      <td>2.0</td>\n",
       "      <td>2.0</td>\n",
       "      <td>2.0</td>\n",
       "      <td>2.0</td>\n",
       "      <td>2.0</td>\n",
       "      <td>2.0</td>\n",
       "    </tr>\n",
       "    <tr>\n",
       "      <th>4</th>\n",
       "      <td>4</td>\n",
       "      <td>4</td>\n",
       "      <td>43</td>\n",
       "      <td>NaN</td>\n",
       "      <td>6.0</td>\n",
       "      <td>436161</td>\n",
       "      <td>5645</td>\n",
       "      <td>592</td>\n",
       "      <td>1958</td>\n",
       "      <td>1</td>\n",
       "      <td>...</td>\n",
       "      <td>0.0</td>\n",
       "      <td>1</td>\n",
       "      <td>2.0</td>\n",
       "      <td>0.0</td>\n",
       "      <td>2.0</td>\n",
       "      <td>2.0</td>\n",
       "      <td>2.0</td>\n",
       "      <td>2.0</td>\n",
       "      <td>2.0</td>\n",
       "      <td>2.0</td>\n",
       "    </tr>\n",
       "  </tbody>\n",
       "</table>\n",
       "<p>5 rows × 1246 columns</p>\n",
       "</div>"
      ],
      "text/plain": [
       "   train_id  AA3  AA4  AA5  AA6     AA7  AA14  AA15   DG1  is_female  \\\n",
       "0         0    3   32  3.0  NaN  323011  3854   481  1975          1   \n",
       "1         1    2   26  NaN  8.0  268131  2441   344  1981          1   \n",
       "2         2    1   16  NaN  7.0  167581   754   143  1995          1   \n",
       "3         3    4   44  5.0  NaN  445071  5705   604  1980          1   \n",
       "4         4    4   43  NaN  6.0  436161  5645   592  1958          1   \n",
       "\n",
       "      ...      MT1A_f  DL2_new G2P1_11_new  GN2_new  FF14_6_new  FF14_5_new  \\\n",
       "0     ...         0.0        1         2.0      0.0         2.0         2.0   \n",
       "1     ...         0.0        1         2.0      0.0         2.0         2.0   \n",
       "2     ...         1.0        1         2.0      1.0         2.0         2.0   \n",
       "3     ...         1.0        1         2.0      1.0         2.0         2.0   \n",
       "4     ...         0.0        1         2.0      0.0         2.0         2.0   \n",
       "\n",
       "   FF14_4_new  FF14_3_new  MT18_5_new  MT18_4_new  \n",
       "0         2.0         2.0         2.0         2.0  \n",
       "1         2.0         2.0         2.0         2.0  \n",
       "2         2.0         2.0         2.0         2.0  \n",
       "3         2.0         2.0         2.0         2.0  \n",
       "4         2.0         2.0         2.0         2.0  \n",
       "\n",
       "[5 rows x 1246 columns]"
      ]
     },
     "execution_count": 4,
     "metadata": {},
     "output_type": "execute_result"
    }
   ],
   "source": [
    "train.head()"
   ]
  },
  {
   "cell_type": "code",
   "execution_count": 5,
   "metadata": {
    "collapsed": true
   },
   "outputs": [],
   "source": [
    "TARGET = \"is_female\""
   ]
  },
  {
   "cell_type": "code",
   "execution_count": 6,
   "metadata": {
    "collapsed": true
   },
   "outputs": [],
   "source": [
    "X_new = DataInit.get_train(True)\n",
    "Y_new = DataInit.get_test(True)"
   ]
  },
  {
   "cell_type": "code",
   "execution_count": null,
   "metadata": {
    "collapsed": true
   },
   "outputs": [],
   "source": [
    "x_n_train, x_n_test, y_n_train, y_n_test = train_test_split(X_new, Y_new, test_size=0.4, random_state=42)"
   ]
  },
  {
   "cell_type": "markdown",
   "metadata": {},
   "source": [
    "# RandomForestClassifier"
   ]
  },
  {
   "cell_type": "code",
   "execution_count": 30,
   "metadata": {},
   "outputs": [
    {
     "name": "stdout",
     "output_type": "stream",
     "text": [
      "[[3059  336]\n",
      " [ 409 3498]]\n",
      "0.960544779526\n",
      "[[ 0.01571429  0.98428571]\n",
      " [ 0.92285714  0.07714286]\n",
      " [ 0.00571429  0.99428571]\n",
      " ..., \n",
      " [ 1.          0.        ]\n",
      " [ 0.40142857  0.59857143]\n",
      " [ 0.14857143  0.85142857]]\n"
     ]
    }
   ],
   "source": [
    "Ntree = 700\n",
    "clf = RandomForestClassifier(n_estimators=Ntree,random_state=14, max_features = 0.6)\n",
    "clf.fit(x_n_train, y_n_train)\n",
    "# clf.fit(X_new, Y_new)\n",
    "\n",
    "y_pred = clf.predict(x_n_test)\n",
    "\n",
    "cm = confusion_matrix(y_n_test, y_pred)\n",
    "print (cm)\n",
    "\n",
    "y_prob = clf.predict_proba(x_n_test)\n",
    "print(metrics.roc_auc_score(y_n_test, y_prob[:,1]))\n",
    "\n",
    "test_n = test.reindex(columns = x_n_test.columns)\n",
    "\n",
    "y_pred_f1 = clf.predict(test_n)\n",
    "y_prob = clf.predict_proba(test_n)\n",
    "\n",
    "\n",
    "print(y_prob)"
   ]
  },
  {
   "cell_type": "code",
   "execution_count": 239,
   "metadata": {},
   "outputs": [
    {
     "name": "stdout",
     "output_type": "stream",
     "text": [
      "[[ 0.028  0.972]\n",
      " [ 0.918  0.082]\n",
      " [ 0.01   0.99 ]\n",
      " ..., \n",
      " [ 1.     0.   ]\n",
      " [ 0.498  0.502]\n",
      " [ 0.13   0.87 ]]\n"
     ]
    }
   ],
   "source": [
    "Ntree = 500\n",
    "clf = RandomForestClassifier(n_estimators=Ntree,random_state=1234)\n",
    "# clf.fit(x_n_train, y_n_train)\n",
    "clf.fit(X_new, Y_new)\n",
    "\n",
    "\n",
    "test_n = test.reindex(columns = X_new.columns)\n",
    "\n",
    "y_pred_f1 = clf.predict(test_n)\n",
    "y_prob = clf.predict_proba(test_n)\n",
    "\n",
    "\n",
    "print(y_prob)"
   ]
  },
  {
   "cell_type": "markdown",
   "metadata": {},
   "source": [
    "# SVM"
   ]
  },
  {
   "cell_type": "code",
   "execution_count": null,
   "metadata": {
    "collapsed": true
   },
   "outputs": [],
   "source": [
    "# from sklearn import svm\n",
    "\n",
    "# x_n_train, x_n_test, y_n_train, y_n_test = train_test_split(X_new, Y_new, test_size=0.4, random_state=42)\n",
    "\n",
    "clf = svm.SVC(kernel = \"linear\",probability = True)\n",
    "clf.fit(x_n_train, y_n_train) "
   ]
  },
  {
   "cell_type": "markdown",
   "metadata": {},
   "source": [
    "# KNN"
   ]
  },
  {
   "cell_type": "code",
   "execution_count": 23,
   "metadata": {},
   "outputs": [
    {
     "data": {
      "text/plain": [
       "KNeighborsClassifier(algorithm='auto', leaf_size=30, metric='minkowski',\n",
       "           metric_params=None, n_jobs=1, n_neighbors=10, p=2,\n",
       "           weights='uniform')"
      ]
     },
     "execution_count": 23,
     "metadata": {},
     "output_type": "execute_result"
    }
   ],
   "source": [
    "# from sklearn.neighbors import KNeighborsClassifier\n",
    "# x_n_train, x_n_test, y_n_train, y_n_test = train_test_split(X_new, Y_new, test_size=0.4, random_state=42)\n",
    "clf = KNeighborsClassifier(n_neighbors=10)\n",
    "clf.fit(x_n_train, y_n_train) \n"
   ]
  },
  {
   "cell_type": "code",
   "execution_count": 24,
   "metadata": {},
   "outputs": [
    {
     "name": "stdout",
     "output_type": "stream",
     "text": [
      "[[1892 1503]\n",
      " [1622 2285]]\n",
      "0.60000701132\n",
      "[[ 0.4  0.6]\n",
      " [ 0.8  0.2]\n",
      " [ 0.5  0.5]\n",
      " ..., \n",
      " [ 0.5  0.5]\n",
      " [ 0.7  0.3]\n",
      " [ 0.7  0.3]]\n"
     ]
    }
   ],
   "source": [
    "\n",
    "y_pred = clf.predict(x_n_test)\n",
    "\n",
    "cm = confusion_matrix(y_n_test, y_pred)\n",
    "print (cm)\n",
    "\n",
    "y_prob = clf.predict_proba(x_n_test)\n",
    "print(metrics.roc_auc_score(y_n_test, y_prob[:,1]))\n",
    "\n",
    "test_n = test.reindex(columns = x_n_test.columns)\n",
    "\n",
    "y_pred_f1 = clf.predict(test_n)\n",
    "y_prob = clf.predict_proba(test_n)\n",
    "\n",
    "\n",
    "print(y_prob)"
   ]
  },
  {
   "cell_type": "markdown",
   "metadata": {},
   "source": [
    "# Neuronetworks"
   ]
  },
  {
   "cell_type": "markdown",
   "metadata": {
    "collapsed": true
   },
   "source": [
    "lst = []\n",
    "acc = 0\n",
    "for i in (train.dtypes):\n",
    "    if str(i) == \"object\":\n",
    "        lst.append(acc)\n",
    "    acc = acc+1\n",
    "    \n",
    "lst2 = []\n",
    "for i in lst:\n",
    "    lst2.append(train.dtypes.keys()[i])\n"
   ]
  },
  {
   "cell_type": "code",
   "execution_count": 38,
   "metadata": {
    "collapsed": true
   },
   "outputs": [],
   "source": [
    "train = pd.read_csv(\"train.csv\",low_memory=False)\n",
    "test = pd.read_csv(\"test.csv\",low_memory=False)"
   ]
  },
  {
   "cell_type": "code",
   "execution_count": 39,
   "metadata": {
    "collapsed": true
   },
   "outputs": [],
   "source": [
    "df = deepcopy(train)\n",
    "category_cols = df.select_dtypes(exclude=[np.number]).columns.tolist() + test.select_dtypes(exclude=[np.number]).columns.tolist()\n",
    "# print(len(category_cols))"
   ]
  },
  {
   "cell_type": "code",
   "execution_count": 40,
   "metadata": {
    "collapsed": true
   },
   "outputs": [],
   "source": [
    "\n",
    "# drop_lst = category_cols + [\"is_female\",\"train_id\"]\n",
    "Y_new = df.is_female\n",
    "X_new = df.drop([\"is_female\",\"train_id\"], axis = 1)\n",
    "\n",
    "for header in category_cols:\n",
    "    X_new[header] = X_new[header].astype('category').cat.codes\n",
    "    X_new[header] = pd.to_numeric(X_new[header])\n",
    "    test[header] = test[header].astype('category').cat.codes\n",
    "    test[header] = pd.to_numeric(test[header])"
   ]
  },
  {
   "cell_type": "code",
   "execution_count": 41,
   "metadata": {
    "collapsed": true
   },
   "outputs": [],
   "source": [
    "X_new.fillna(\"3\",inplace = True)\n",
    "test.fillna(\"3\",inplace = True)\n",
    "scaler = StandardScaler()\n",
    "scaler.fit(X_new)\n",
    "StandardScaler(copy=True, with_mean=True, with_std=True)\n",
    "X_new  = scaler.transform(X_new)"
   ]
  },
  {
   "cell_type": "code",
   "execution_count": 42,
   "metadata": {},
   "outputs": [
    {
     "ename": "ValueError",
     "evalue": "operands could not be broadcast together with shapes (27285,1234) (1233,) (27285,1234) ",
     "output_type": "error",
     "traceback": [
      "\u001b[0;31m---------------------------------------------------------------------------\u001b[0m",
      "\u001b[0;31mValueError\u001b[0m                                Traceback (most recent call last)",
      "\u001b[0;32m<ipython-input-42-06bdfc4a704e>\u001b[0m in \u001b[0;36m<module>\u001b[0;34m()\u001b[0m\n\u001b[0;32m----> 1\u001b[0;31m \u001b[0mtest\u001b[0m \u001b[0;34m=\u001b[0m \u001b[0mscaler\u001b[0m\u001b[0;34m.\u001b[0m\u001b[0mtransform\u001b[0m\u001b[0;34m(\u001b[0m\u001b[0mtest\u001b[0m\u001b[0;34m)\u001b[0m\u001b[0;34m\u001b[0m\u001b[0m\n\u001b[0m\u001b[1;32m      2\u001b[0m \u001b[0mx_n_train\u001b[0m\u001b[0;34m,\u001b[0m \u001b[0mx_n_test\u001b[0m\u001b[0;34m,\u001b[0m \u001b[0my_n_train\u001b[0m\u001b[0;34m,\u001b[0m \u001b[0my_n_test\u001b[0m \u001b[0;34m=\u001b[0m \u001b[0mtrain_test_split\u001b[0m\u001b[0;34m(\u001b[0m\u001b[0mX_new\u001b[0m\u001b[0;34m,\u001b[0m \u001b[0mY_new\u001b[0m\u001b[0;34m,\u001b[0m \u001b[0mtest_size\u001b[0m\u001b[0;34m=\u001b[0m\u001b[0;36m0.4\u001b[0m\u001b[0;34m,\u001b[0m \u001b[0mrandom_state\u001b[0m\u001b[0;34m=\u001b[0m\u001b[0;36m42\u001b[0m\u001b[0;34m)\u001b[0m\u001b[0;34m\u001b[0m\u001b[0m\n",
      "\u001b[0;32m/Applications/anaconda/lib/python3.6/site-packages/sklearn/preprocessing/data.py\u001b[0m in \u001b[0;36mtransform\u001b[0;34m(self, X, y, copy)\u001b[0m\n\u001b[1;32m    658\u001b[0m         \u001b[0;32melse\u001b[0m\u001b[0;34m:\u001b[0m\u001b[0;34m\u001b[0m\u001b[0m\n\u001b[1;32m    659\u001b[0m             \u001b[0;32mif\u001b[0m \u001b[0mself\u001b[0m\u001b[0;34m.\u001b[0m\u001b[0mwith_mean\u001b[0m\u001b[0;34m:\u001b[0m\u001b[0;34m\u001b[0m\u001b[0m\n\u001b[0;32m--> 660\u001b[0;31m                 \u001b[0mX\u001b[0m \u001b[0;34m-=\u001b[0m \u001b[0mself\u001b[0m\u001b[0;34m.\u001b[0m\u001b[0mmean_\u001b[0m\u001b[0;34m\u001b[0m\u001b[0m\n\u001b[0m\u001b[1;32m    661\u001b[0m             \u001b[0;32mif\u001b[0m \u001b[0mself\u001b[0m\u001b[0;34m.\u001b[0m\u001b[0mwith_std\u001b[0m\u001b[0;34m:\u001b[0m\u001b[0;34m\u001b[0m\u001b[0m\n\u001b[1;32m    662\u001b[0m                 \u001b[0mX\u001b[0m \u001b[0;34m/=\u001b[0m \u001b[0mself\u001b[0m\u001b[0;34m.\u001b[0m\u001b[0mscale_\u001b[0m\u001b[0;34m\u001b[0m\u001b[0m\n",
      "\u001b[0;31mValueError\u001b[0m: operands could not be broadcast together with shapes (27285,1234) (1233,) (27285,1234) "
     ]
    }
   ],
   "source": [
    "test = scaler.transform(test)\n",
    "x_n_train, x_n_test, y_n_train, y_n_test = train_test_split(X_new, Y_new, test_size=0.4, random_state=42)"
   ]
  },
  {
   "cell_type": "code",
   "execution_count": 64,
   "metadata": {},
   "outputs": [
    {
     "name": "stdout",
     "output_type": "stream",
     "text": [
      "[[3395    0]\n",
      " [3907    0]]\n",
      "0.536752092935\n",
      "[[  1.00000000e+000   0.00000000e+000]\n",
      " [  1.00000000e+000   8.67956728e-279]\n",
      " [  1.00000000e+000   0.00000000e+000]\n",
      " ..., \n",
      " [  1.00000000e+000   2.88097250e-128]\n",
      " [  1.00000000e+000   7.02877052e-213]\n",
      " [  1.00000000e+000   3.46772627e-228]]\n"
     ]
    }
   ],
   "source": [
    "# x_n_train, x_n_test, y_n_train, y_n_test = train_test_split(X_new, Y_new, test_size=0.4, random_state=42)\n",
    "clf = MLPClassifier(solver='adam')\n",
    "clf.fit(x_n_train, y_n_train)\n",
    "\n",
    "y_pred = clf.predict(x_n_test)\n",
    "\n",
    "cm = confusion_matrix(y_n_test, y_pred)\n",
    "print (cm)\n",
    "\n",
    "y_prob = clf.predict_proba(x_n_test)\n",
    "print(metrics.roc_auc_score(y_n_test, y_prob[:,1]))\n",
    "\n",
    "test_n = test.reindex(columns = x_n_test.columns)\n",
    "\n",
    "y_pred_f1 = clf.predict(test_n)\n",
    "y_prob = clf.predict_proba(test_n)\n",
    "\n",
    "\n",
    "print(y_prob)"
   ]
  },
  {
   "cell_type": "markdown",
   "metadata": {
    "collapsed": true
   },
   "source": [
    "# Write submission file"
   ]
  },
  {
   "cell_type": "code",
   "execution_count": 240,
   "metadata": {
    "collapsed": true
   },
   "outputs": [],
   "source": [
    "import csv\n",
    "\n",
    "with open(\"submit_all.csv\",'w') as f:\n",
    "    fieldnames = [\"test_id\",\"is_female\"]\n",
    "    wri = csv.DictWriter(f, delimiter=',',fieldnames= fieldnames)\n",
    "    acc = 0\n",
    "    wri.writeheader()\n",
    "    for i in y_prob:\n",
    "        wri.writerow({\"test_id\":acc, \"is_female\": i[1]})\n",
    "        acc = acc+1"
   ]
  },
  {
   "cell_type": "code",
   "execution_count": 241,
   "metadata": {},
   "outputs": [
    {
     "name": "stdout",
     "output_type": "stream",
     "text": [
      "   test_id  is_female\n",
      "0        0      0.978\n",
      "1        1      0.130\n",
      "2        2      0.990\n",
      "3        3      0.986\n",
      "4        4      0.514\n",
      "   test_id  is_female\n",
      "0        0      0.972\n",
      "1        1      0.082\n",
      "2        2      0.990\n",
      "3        3      0.974\n",
      "4        4      0.530\n"
     ]
    }
   ],
   "source": [
    "t = pd.read_csv(\"submit2.csv\")\n",
    "t2 = pd.read_csv(\"submit_all.csv\")\n",
    "print(t.head())\n",
    "print(t2.head())"
   ]
  },
  {
   "cell_type": "code",
   "execution_count": null,
   "metadata": {
    "collapsed": true
   },
   "outputs": [],
   "source": []
  }
 ],
 "metadata": {
  "kernelspec": {
   "display_name": "Python 3",
   "language": "python",
   "name": "python3"
  },
  "language_info": {
   "codemirror_mode": {
    "name": "ipython",
    "version": 3
   },
   "file_extension": ".py",
   "mimetype": "text/x-python",
   "name": "python",
   "nbconvert_exporter": "python",
   "pygments_lexer": "ipython3",
   "version": "3.6.1"
  }
 },
 "nbformat": 4,
 "nbformat_minor": 2
}
