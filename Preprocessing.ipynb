{
 "cells": [
  {
   "cell_type": "code",
   "execution_count": null,
   "metadata": {
    "collapsed": true
   },
   "outputs": [],
   "source": [
    "# from sklearn.model_selection import train_test_split\n",
    "# from sklearn import metrics\n",
    "# from sklearn.feature_selection import SelectKBest\n",
    "# from sklearn.ensemble import RandomForestClassifier\n",
    "# from sklearn.preprocessing import StandardScaler\n",
    "import pandas as pd\n",
    "import numpy as np\n",
    "from sklearn.metrics import confusion_matrix\n",
    "from copy import deepcopy"
   ]
  },
  {
   "cell_type": "markdown",
   "metadata": {},
   "source": [
    "# Random Forest Feature"
   ]
  },
  {
   "cell_type": "code",
   "execution_count": null,
   "metadata": {
    "collapsed": true
   },
   "outputs": [],
   "source": [
    "X_train, X_test, y_train, y_test =train_test_split(X, Y, test_size=0.4, random_state=42)\n",
    "test = test.reindex(columns = train.columns, fill_value = 0)\n",
    "Ntree = 500\n",
    "clf = RandomForestClassifier(n_estimators=Ntree,random_state=1234)\n",
    "clf.fit(X_train, y_train)\n",
    "y_pred = clf.predict(X_test)\n",
    "\n",
    "cm = confusion_matrix(y_test, y_pred)\n",
    "print (cm)\n",
    "\n",
    "y_prob = clf.predict_proba(X_test)\n",
    "\n",
    "metrics.roc_auc_score(y_test, y_prob[:,1])"
   ]
  },
  {
   "cell_type": "code",
   "execution_count": null,
   "metadata": {
    "collapsed": true
   },
   "outputs": [],
   "source": [
    "### find important features"
   ]
  },
  {
   "cell_type": "code",
   "execution_count": null,
   "metadata": {
    "collapsed": true
   },
   "outputs": [],
   "source": [
    "dic ={}\n",
    "for feature in zip(X.columns, clf.feature_importances_):\n",
    "    dic[feature[1]] = feature[0]\n",
    "\n",
    "lst = []\n",
    "for i in sorted(dic.keys()):\n",
    "    if i>0.005:\n",
    "        lst.append(dic[i])\n",
    "lst"
   ]
  },
  {
   "cell_type": "markdown",
   "metadata": {},
   "source": [
    "# Other"
   ]
  },
  {
   "cell_type": "code",
   "execution_count": null,
   "metadata": {
    "collapsed": true
   },
   "outputs": [],
   "source": [
    "### drop the nas by \"any\" or \"all\"\n",
    "t_nona = train.dropna(axis = 1, how = \"any\")\n",
    "t_nona.head()\n",
    "\n",
    "X = t_nona.drop([\"is_female\",\"train_id\"], axis = 1)\n",
    "Y = t_nona.is_female"
   ]
  },
  {
   "cell_type": "code",
   "execution_count": null,
   "metadata": {
    "collapsed": true
   },
   "outputs": [],
   "source": [
    "train[[\"is_female\",\"MM28\"]][:50]\n",
    "a = train[[\"is_female\",\"MM31_9\"]].loc[train[\"MM31_9\"] == 2.0]\n",
    "# a.groupby([\"MM31_9\",\"is_female\"]).value\n",
    "# a.pivot(index='is_female', columns='MM31_9')\n",
    "sum(train[\"is_female\"].loc[train[\"MM31_9\"] == 2.0])\n",
    "len(train[\"is_female\"].loc[train[\"MM31_9\"] == 2.0])"
   ]
  },
  {
   "cell_type": "code",
   "execution_count": null,
   "metadata": {
    "collapsed": true
   },
   "outputs": [],
   "source": []
  },
  {
   "cell_type": "markdown",
   "metadata": {},
   "source": [
    "# add human selected features"
   ]
  },
  {
   "cell_type": "code",
   "execution_count": 1,
   "metadata": {},
   "outputs": [
    {
     "ename": "NameError",
     "evalue": "name 'pd' is not defined",
     "output_type": "error",
     "traceback": [
      "\u001b[0;31m---------------------------------------------------------------------------\u001b[0m",
      "\u001b[0;31mNameError\u001b[0m                                 Traceback (most recent call last)",
      "\u001b[0;32m<ipython-input-1-a725731e0e95>\u001b[0m in \u001b[0;36m<module>\u001b[0;34m()\u001b[0m\n\u001b[0;32m----> 1\u001b[0;31m \u001b[0mnew_feature\u001b[0m \u001b[0;34m=\u001b[0m \u001b[0mpd\u001b[0m\u001b[0;34m.\u001b[0m\u001b[0mread_csv\u001b[0m\u001b[0;34m(\u001b[0m\u001b[0;34m\"new_feature.csv\"\u001b[0m\u001b[0;34m)\u001b[0m\u001b[0;34m\u001b[0m\u001b[0m\n\u001b[0m\u001b[1;32m      2\u001b[0m \u001b[0mnew_feature\u001b[0m \u001b[0;34m=\u001b[0m \u001b[0mnew_feature\u001b[0m\u001b[0;34m[\u001b[0m\u001b[0;34m\"Column Name\"\u001b[0m\u001b[0;34m]\u001b[0m\u001b[0;34m.\u001b[0m\u001b[0mtolist\u001b[0m\u001b[0;34m(\u001b[0m\u001b[0;34m)\u001b[0m\u001b[0;34m\u001b[0m\u001b[0m\n\u001b[1;32m      3\u001b[0m \u001b[0;34m\u001b[0m\u001b[0m\n\u001b[1;32m      4\u001b[0m \u001b[0mlst\u001b[0m \u001b[0;34m=\u001b[0m \u001b[0;34m[\u001b[0m\u001b[0;34m'DL14'\u001b[0m\u001b[0;34m,\u001b[0m\u001b[0;34m'DG5_4'\u001b[0m\u001b[0;34m,\u001b[0m\u001b[0;34m'AA15'\u001b[0m\u001b[0;34m,\u001b[0m\u001b[0;34m'AA14'\u001b[0m\u001b[0;34m,\u001b[0m\u001b[0;34m'DG8a'\u001b[0m\u001b[0;34m,\u001b[0m\u001b[0;34m'AA7'\u001b[0m\u001b[0;34m,\u001b[0m\u001b[0;34m'DG4'\u001b[0m\u001b[0;34m,\u001b[0m\u001b[0;34m'GN2'\u001b[0m\u001b[0;34m,\u001b[0m\u001b[0;34m'DG1'\u001b[0m\u001b[0;34m,\u001b[0m\u001b[0;34m'MT10'\u001b[0m\u001b[0;34m,\u001b[0m\u001b[0;34m'GN3'\u001b[0m\u001b[0;34m,\u001b[0m\u001b[0;34m'GN5'\u001b[0m\u001b[0;34m,\u001b[0m\u001b[0;34m'MT2'\u001b[0m\u001b[0;34m,\u001b[0m\u001b[0;34m'GN4'\u001b[0m\u001b[0;34m,\u001b[0m\u001b[0;34m'DG3'\u001b[0m\u001b[0;34m,\u001b[0m\u001b[0;34m'FL4'\u001b[0m\u001b[0;34m,\u001b[0m\u001b[0;34m'DL1'\u001b[0m\u001b[0;34m,\u001b[0m\u001b[0;34m'DG6'\u001b[0m\u001b[0;34m,\u001b[0m\u001b[0;34m'DL0'\u001b[0m\u001b[0;34m]\u001b[0m\u001b[0;34m\u001b[0m\u001b[0m\n\u001b[1;32m      5\u001b[0m \u001b[0mlst\u001b[0m \u001b[0;34m=\u001b[0m \u001b[0mlst\u001b[0m \u001b[0;34m+\u001b[0m \u001b[0mnew_feature\u001b[0m\u001b[0;34m\u001b[0m\u001b[0m\n",
      "\u001b[0;31mNameError\u001b[0m: name 'pd' is not defined"
     ]
    }
   ],
   "source": [
    "new_feature = pd.read_csv(\"new_feature.csv\")\n",
    "new_feature = new_feature[\"Column Name\"].tolist()\n",
    "\n",
    "lst = ['DL14','DG5_4','AA15','AA14','DG8a','AA7','DG4','GN2','DG1','MT10','GN3','GN5','MT2','GN4','DG3','FL4','DL1','DG6','DL0']\n",
    "lst = lst + new_feature\n",
    "\n",
    "\n",
    "\n",
    "\n",
    "\n",
    "def process_DL2(df,pr = False):\n",
    "    f = \"DL2\"\n",
    "    male = []\n",
    "    female = []\n",
    "    middle = []\n",
    "    for choice in range(1,33):\n",
    "        perc = rate_feature(f,choice)\n",
    "        if perc < 0.3:\n",
    "            male.append(choice)\n",
    "    if pr:\n",
    "        print(male)\n",
    "    feature_DL2 = df.loc[df.DL2.isin(male), \"DL2_new\"]=1\n",
    "    df[\"DL2_new\"] = feature_DL2\n",
    "    if pr:\n",
    "        print((df[[\"DL2_new\",\"DL2\"]]).head())\n",
    "\n",
    "\n",
    "def process_MT17_6(df, pr = False):\n",
    "    f = 'MT17_6'\n",
    "    choices = range(1,7)\n",
    "    male = []\n",
    "    female = []\n",
    "    for choice in choices:\n",
    "        perc = rate_feature(f,choice)\n",
    "        if perc < 0.3:\n",
    "            male.append(choice)\n",
    "        if pr:\n",
    "            print(perc)\n",
    "    \n",
    "    df.loc[df.MT1A.isin(male), f +\"_m\"]=1\n",
    "#     df.loc[df.MT1A.isin(female), \"MT1A_f\"]=1\n",
    "    df.MT17_6_m = df.MT17_6_m.fillna(0)\n",
    "#     df.MT1A_f = df.MT1A_f.fillna(0)\n",
    "    if pr:\n",
    "        print(\"male\",male)\n",
    "        print((df[[f,f +\"_m\"]]).head())\n",
    "\n",
    "def process_MT1A(df,pr = False):\n",
    "    f = 'MT1A'\n",
    "    choices = [1,2,3,4,5,8,99]\n",
    "    male = []\n",
    "    female = []\n",
    "    for choice in choices:\n",
    "        perc = rate_feature(f,choice)\n",
    "        if perc < 0.3:\n",
    "            male.append(choice)\n",
    "        elif perc < 0.7:\n",
    "            pass\n",
    "        else:\n",
    "            female.append(choice)\n",
    "    if pr:\n",
    "        print(\"male\",male)\n",
    "        print(\"female\",female)\n",
    "    df.loc[df.MT1A.isin(male), \"MT1A_m\"]=1\n",
    "    df.loc[df.MT1A.isin(female), \"MT1A_f\"]=1\n",
    "    df.MT1A_m = df.MT1A_m.fillna(0)\n",
    "    df.MT1A_f = df.MT1A_f.fillna(0)\n",
    "    if pr:\n",
    "        print((df[[\"MT1A\",\"MT1A_m\",\"MT1A_f\"]]).head())\n",
    "\n",
    "\n",
    "def process_cols(df,pr=False):\n",
    "    cols = [(\"FF14_6\",1),(\"FF14_5\",1),(\"FF14_4\",1),(\"FF14_3\",1),(\"MT18_5\",1),(\"MT18_4\",1)]\n",
    "    for pair in cols:\n",
    "        col, choice = pair\n",
    "        col_new = col+\"_new\"\n",
    "        df.loc[df[col] == choice, col_new]=choice\n",
    "        df.loc[df[col] != choice, col_new]=choice+1\n",
    "#         df.[col_new] = df.col_new.fillna(0)\n",
    "        if pr:\n",
    "            print((df[[col,col_new]]).head())\n",
    "\n",
    "\n",
    "def process_GN2(df,pr = False):\n",
    "    df.loc[df.GN2 == 2, \"GN2_new\"]=1\n",
    "    df.loc[df.GN2 != 2, \"GN2_new\"]=0\n",
    "    df.GN2_new = df.GN2_new.fillna(0)\n",
    "    if pr:\n",
    "        print((df[[\"GN2\",\"GN2_new\"]]))\n",
    "\n",
    "\n",
    "def process_G2P1_11(df,pr = False):\n",
    "    df.loc[df.G2P1_11 == 1, \"G2P1_11_new\"]=1\n",
    "    df.G2P1_11_new = df.G2P1_11_new.fillna(2)\n",
    "    if pr:\n",
    "        print((df[[\"G2P1_11\",\"G2P1_11_new\"]]).head())\n",
    "\n",
    "\n",
    "def rate_feature(f,choice):\n",
    "    # among people who chose choice in f, what percent is female\n",
    "    df=(train[[\"is_female\",f]])\n",
    "    # df[ :,lambda dh\n",
    "    feature = df.loc[df[f] ==choice]\n",
    "    a = list(feature[\"is_female\"])\n",
    "    if len(a) == 0:\n",
    "        return 0\n",
    "    return a.count(1) * 1.0 / len(a)\n",
    "\n",
    "def process_data(df):\n",
    "    process_MT1A(df)\n",
    "    process_DL2(df)\n",
    "    process_G2P1_11(df)\n",
    "    process_GN2(df)\n",
    "    process_cols(df)"
   ]
  },
  {
   "cell_type": "code",
   "execution_count": null,
   "metadata": {
    "collapsed": true
   },
   "outputs": [],
   "source": [
    "from sklearn.preprocessing import Imputer\n",
    "imp = Imputer(missing_values=\"NaN\", strategy = \"mean\", axis = 1)\n",
    "imp = imp.fit(train[newlist])"
   ]
  }
 ],
 "metadata": {
  "kernelspec": {
   "display_name": "Python 3",
   "language": "python",
   "name": "python3"
  },
  "language_info": {
   "codemirror_mode": {
    "name": "ipython",
    "version": 3
   },
   "file_extension": ".py",
   "mimetype": "text/x-python",
   "name": "python",
   "nbconvert_exporter": "python",
   "pygments_lexer": "ipython3",
   "version": "3.6.1"
  }
 },
 "nbformat": 4,
 "nbformat_minor": 2
}
