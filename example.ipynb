{
 "cells": [
  {
   "cell_type": "markdown",
   "metadata": {
    "_cell_guid": "fd592226-0241-4653-83bf-f7d6e9198650",
    "_uuid": "0d1d906322b073da66b9616441cf48ad3dbbaa9d"
   },
   "source": [
    "## Simple Baseline script\n",
    "* Uses CatBoost (Has built in embedding support for categoricals, such as the string columns)\n",
    "* Not compared with OneHot encoding handling of string/categorical columns yet, or xgboost, lightgbm (the later can also handle categoricals natively). \n",
    "\n",
    "    *Good luck!\n",
    "\n",
    "* Target: *is_female*"
   ]
  },
  {
   "cell_type": "code",
   "execution_count": 2,
   "metadata": {
    "_cell_guid": "f69f0855-c0bf-488c-b800-c0d8b3be7384",
    "_uuid": "4efe4de69db9ece58f394491e4a7bfd684dd5ead"
   },
   "outputs": [],
   "source": [
    "import numpy as np\n",
    "import pandas as pd\n",
    "from sklearn.model_selection import train_test_split\n",
    "from subprocess import check_output\n",
    "# print(check_output([\"ls\", \"../input\"]).decode(\"utf8\"))\n",
    "# Any results you write to the current directory are saved as output."
   ]
  },
  {
   "cell_type": "code",
   "execution_count": 3,
   "metadata": {
    "_cell_guid": "c738910e-e7a3-419f-943a-93fa5c210811",
    "_uuid": "5e8fe45039c13d8ed33e76cce335d8d6a59a4b4d"
   },
   "outputs": [
    {
     "ename": "ModuleNotFoundError",
     "evalue": "No module named 'catboost'",
     "output_type": "error",
     "traceback": [
      "\u001b[0;31m---------------------------------------------------------------------------\u001b[0m",
      "\u001b[0;31mModuleNotFoundError\u001b[0m                       Traceback (most recent call last)",
      "\u001b[0;32m<ipython-input-3-d9c9d625355d>\u001b[0m in \u001b[0;36m<module>\u001b[0;34m()\u001b[0m\n\u001b[0;32m----> 1\u001b[0;31m \u001b[0;32mfrom\u001b[0m \u001b[0mcatboost\u001b[0m \u001b[0;32mimport\u001b[0m \u001b[0mCatBoostClassifier\u001b[0m\u001b[0;34m\u001b[0m\u001b[0m\n\u001b[0m\u001b[1;32m      2\u001b[0m \u001b[0;31m# from xgboost import XGBClassifier\u001b[0m\u001b[0;34m\u001b[0m\u001b[0;34m\u001b[0m\u001b[0m\n\u001b[1;32m      3\u001b[0m \u001b[0;32mimport\u001b[0m \u001b[0mlightgbm\u001b[0m \u001b[0;32mas\u001b[0m \u001b[0mlgb\u001b[0m\u001b[0;34m\u001b[0m\u001b[0m\n\u001b[1;32m      4\u001b[0m \u001b[0;34m\u001b[0m\u001b[0m\n\u001b[1;32m      5\u001b[0m \u001b[0mTARGET\u001b[0m \u001b[0;34m=\u001b[0m \u001b[0;34m\"is_female\"\u001b[0m\u001b[0;34m\u001b[0m\u001b[0m\n",
      "\u001b[0;31mModuleNotFoundError\u001b[0m: No module named 'catboost'"
     ]
    }
   ],
   "source": [
    "from catboost import CatBoostClassifier\n",
    "# from xgboost import XGBClassifier\n",
    "import lightgbm as lgb\n",
    "\n",
    "TARGET = \"is_female\""
   ]
  },
  {
   "cell_type": "markdown",
   "metadata": {
    "_cell_guid": "bd8b5e45-779e-42b3-a0eb-44d2a90ba61b",
    "_uuid": "2af9c0da2fc513d1559e8c52f041e360aa834887"
   },
   "source": [
    "#### Lots of columns!\n",
    "* Some are strings, some are boolean or of very low cardinality ( 3-7 unique values). \n",
    "* Lot's of NaNs. "
   ]
  },
  {
   "cell_type": "code",
   "execution_count": null,
   "metadata": {
    "_cell_guid": "2e56494a-5b4e-4973-bff2-65f6e69a9775",
    "_uuid": "5fe5db8be8f677528da9e92390c80f05b12b5b12",
    "collapsed": true
   },
   "outputs": [],
   "source": [
    "df = pd.read_csv(\"../input/train.csv\",low_memory=False)\n",
    "print(df.shape)\n",
    "df.head()"
   ]
  },
  {
   "cell_type": "markdown",
   "metadata": {
    "_cell_guid": "1e36d315-5d16-4a78-9675-f43e9b4cb990",
    "_uuid": "17c3a2f701dc3b428c828e83dbbf4159e0506537"
   },
   "source": [
    "### Note: Test, Train have different ID columns!\n",
    "* ordering reset to 0 for each. \n",
    "* Best to drop unless a useful leak is identified (But then more annoying to output test set predictions, if train has different # columns). \n",
    "    * Ignore for now"
   ]
  },
  {
   "cell_type": "code",
   "execution_count": null,
   "metadata": {
    "_cell_guid": "2b26bd61-40df-414b-8fb8-7af0e682018c",
    "_uuid": "ba0f6d4fe3fc5ba7dfc6d551a2089c1d4757cf18",
    "collapsed": true
   },
   "outputs": [],
   "source": [
    "test = pd.read_csv(\"../input/test.csv\",low_memory=False)\n",
    "print(test.shape)"
   ]
  },
  {
   "cell_type": "markdown",
   "metadata": {
    "_cell_guid": "086267b3-2cbd-4fc3-9e56-7d819bd7b2eb",
    "_uuid": "383c38e879c145ced067f3eeafdb550204ac2e4b"
   },
   "source": [
    "#### Lots of columns which look to be based on survey responses/multiple choice questions.\n",
    "* in this case, Nulls may be the result of picking a question choice, vs not being answered. Requires digging into the data to understand how it should be addressed case by case. \n",
    "    * In short: missing value imputation may be damaging!  "
   ]
  },
  {
   "cell_type": "code",
   "execution_count": null,
   "metadata": {
    "_cell_guid": "1ad20e11-3169-4db2-be31-1c682b8b7033",
    "_uuid": "387a54cc4e4331db6a2831459ed40b9ab1398a11",
    "collapsed": true,
    "scrolled": true
   },
   "outputs": [],
   "source": [
    "df.isnull().sum()"
   ]
  },
  {
   "cell_type": "markdown",
   "metadata": {
    "_cell_guid": "8400d511-6070-40b9-a354-e02bb103799b",
    "_uuid": "01ab00edf975e83d0ff61a775abc1e302f250de6"
   },
   "source": [
    "## Examine Non numeric columns:\n",
    "* Clear possibilities here to get less sparse features: \"column is not NaN\", or \"sum(notNaN)(col) for col in (cols begginning with DL[0-9]\"... "
   ]
  },
  {
   "cell_type": "code",
   "execution_count": null,
   "metadata": {
    "_cell_guid": "01cabee8-488b-43fd-a3d3-3c80719e77dc",
    "_uuid": "a2062d2b6b067d57de94ff0e1a8153b7bd110c29",
    "collapsed": true
   },
   "outputs": [],
   "source": [
    "# https://stackoverflow.com/questions/25039626/how-do-i-find-numeric-columns-in-pandas\n",
    "df.select_dtypes(exclude=[np.number])"
   ]
  },
  {
   "cell_type": "code",
   "execution_count": null,
   "metadata": {
    "_cell_guid": "9eaa0cb5-b5a3-4e09-bc64-442654251286",
    "_uuid": "5a79d7c515932483b3d2ec987c6109627b6c1d7b",
    "collapsed": true
   },
   "outputs": [],
   "source": [
    "category_cols = df.select_dtypes(exclude=[np.number]).columns.tolist()\n",
    "print(len(category_cols))"
   ]
  },
  {
   "cell_type": "markdown",
   "metadata": {
    "_cell_guid": "ede20ce6-af27-4f82-868a-2b5ea1478cfd",
    "_uuid": "218f2d3398d5bd7531a6cfd4fe12f9106729eb4b"
   },
   "source": [
    "### convert categorical columns to integers\n",
    "* Our test set has categoricals not seen in train - this must be handled. For now, we'll get the categoricals from train and test together, ensuring we \"see\"/encode\" all the categoricals"
   ]
  },
  {
   "cell_type": "code",
   "execution_count": null,
   "metadata": {
    "_cell_guid": "52d339b9-2a14-4cd7-beb4-b99e2b9b9bcb",
    "_uuid": "6659c46a48eb3d51b8a60efd6e84028ce3c43f6a",
    "collapsed": true
   },
   "outputs": [],
   "source": [
    "# Save # rows in train/test. (We could do this directly, but this is easier to debug if needed)\n",
    "TR_ROWS = df.shape[0]\n",
    "print(df.shape)\n",
    "print(test.shape)"
   ]
  },
  {
   "cell_type": "code",
   "execution_count": null,
   "metadata": {
    "_cell_guid": "2a58ae2d-1409-4fae-883d-e77c00e1f5f4",
    "_uuid": "acee485840ea8cd7d9d88307fe963717abbf7f72",
    "collapsed": true
   },
   "outputs": [],
   "source": [
    "df_all = pd.concat([df,test])\n",
    "df_all.shape"
   ]
  },
  {
   "cell_type": "markdown",
   "metadata": {
    "_cell_guid": "adc97a3c-f992-473e-93ca-b10fe4b0de00",
    "_uuid": "62035717b2d936ba60e02b7d358a1ccf7f026dde"
   },
   "source": [
    "## I get errors with LGB and other when using the Categorical datatype: we'll turn it back into Integers to avoid this"
   ]
  },
  {
   "cell_type": "code",
   "execution_count": null,
   "metadata": {
    "_cell_guid": "04805847-07fd-44bd-bbde-6127813c77a1",
    "_uuid": "f884d56d6d36455d33fd6af6a0e5f969ca50893f",
    "collapsed": true
   },
   "outputs": [],
   "source": [
    "for header in category_cols:\n",
    "#     df[header] = df[header].astype('category').cat.codes\n",
    "#     test[header] = test[header].astype('category').cat.codes\n",
    "    df_all[header] = df_all[header].astype('category').cat.codes.astype('int')\n",
    "    df_all[header] = pd.to_numeric(df_all[header])\n",
    "    \n",
    "    df[header] = df[header].astype('category').cat.codes\n",
    "    df[header] = pd.to_numeric(df[header])\n",
    "    test[header] = test[header].astype('category').cat.codes\n",
    "    test[header] = pd.to_numeric(test[header])"
   ]
  },
  {
   "cell_type": "code",
   "execution_count": null,
   "metadata": {
    "_cell_guid": "544f0a73-1781-401d-a751-fdcb81aa19e0",
    "_uuid": "c1d08d45f29819d55c8e0275fb5b218bdf251210",
    "collapsed": true
   },
   "outputs": [],
   "source": [
    "df.shape"
   ]
  },
  {
   "cell_type": "markdown",
   "metadata": {
    "_cell_guid": "2f2a1d0e-0ce4-4f5c-ae50-69b12927f908",
    "_uuid": "d7dd7f54bab69dd067bef31786a9421b528ad1da"
   },
   "source": [
    "#### Split back into train and test"
   ]
  },
  {
   "cell_type": "code",
   "execution_count": null,
   "metadata": {
    "_cell_guid": "ee483e36-e93a-44e8-8b3c-519573f11062",
    "_uuid": "6fe27a01b3e8237aa2d69b68fe3875cb83926fc6",
    "collapsed": true
   },
   "outputs": [],
   "source": [
    "df =df_all.iloc[0:TR_ROWS]\n",
    "test =df_all.iloc[TR_ROWS:]\n",
    "\n",
    "df.drop(['test_id'],axis=1,inplace=True)\n",
    "test.drop(['train_id',\"is_female\"],axis=1,inplace=True)"
   ]
  },
  {
   "cell_type": "markdown",
   "metadata": {
    "_cell_guid": "36dd39e0-c73a-43b6-bc04-08ac3be807eb",
    "_uuid": "9037f77a84e2794bbcff49e98a3bfbd2b149c455"
   },
   "source": [
    "### Naive initial feature engineering:\n",
    "* NaNS per row\n",
    "(Could also be done for groups of columns, or to sum 0/1s.. ("
   ]
  },
  {
   "cell_type": "code",
   "execution_count": null,
   "metadata": {
    "_cell_guid": "c2a17960-90a9-48e0-84e4-a7ff6d5f2131",
    "_uuid": "2cc958392abb83d4359a73ef18ec9f692d5b21dd",
    "collapsed": true
   },
   "outputs": [],
   "source": [
    "df[\"row_nulls\"] = df.isnull().sum(axis=1)\n",
    "test[\"row_nulls\"] = test.isnull().sum(axis=1)"
   ]
  },
  {
   "cell_type": "markdown",
   "metadata": {
    "_cell_guid": "70a190a9-80e2-46e8-9e78-e6fcbb87c14d",
    "_uuid": "0271f04eaca6702850dd115f35348bed4fe03fee"
   },
   "source": [
    "## Build a model\n",
    "* Note: CatBoost in particular has a LOT of hyperparams (it's even worse than LightGBM in this regard). IT's essential to experiment with them if you want to get decent results. \n",
    "* This is my first time using it, so assume my hyperparameters are terrible. \n",
    "* Tuning should use a seperate train/validation set split first to select hyperparams. \n",
    "\n",
    "* For low dimensional categoricals (e.g. <20 unique vars) - there's no benefit in embedding (Catboost/lightGBM) vs simply leaving it as a number or one hot encoding. "
   ]
  },
  {
   "cell_type": "code",
   "execution_count": null,
   "metadata": {
    "_cell_guid": "6ffa2d1b-36f1-4695-8a82-f6a15966c103",
    "_uuid": "476eef6156e1433ee9938c0eaaaa8ba6be052656",
    "collapsed": true
   },
   "outputs": [],
   "source": [
    "X = df.drop([TARGET],axis=1)# .select_dtypes(include=[np.number]) #.values\n",
    "Y = df[TARGET]"
   ]
  },
  {
   "cell_type": "code",
   "execution_count": null,
   "metadata": {
    "_cell_guid": "ce3a38d2-02e3-4f59-8722-2c5f3aee5ec5",
    "_uuid": "feb07177dd38fdf265cd854a3ebb27d47938b7ce",
    "collapsed": true
   },
   "outputs": [],
   "source": [
    "### Optional Train/Validation split for test hyperparams. \n",
    "X_train, X_test, y_train, y_test = train_test_split(X, Y, test_size=0.3, random_state=42)"
   ]
  },
  {
   "cell_type": "code",
   "execution_count": null,
   "metadata": {
    "_cell_guid": "666fe3b4-4b60-459c-a4ec-6a41a23bf9ef",
    "_uuid": "1ac91b45562f6bc78f6f849a39557d5696d35edb",
    "collapsed": true,
    "scrolled": true
   },
   "outputs": [],
   "source": [
    "cat_dims = [X.columns.get_loc(i) for i in category_cols[:-1]]  # categorical columns indexes\n",
    "\n",
    "# train default catBoost classifier. Default loss metric is LogLoss (lower is better)\n",
    "clf = CatBoostClassifier(eval_metric=\"AUC\", one_hot_max_size=3, iterations=2)\n",
    "\n",
    "clf.fit(X,Y , cat_features=cat_dims)"
   ]
  },
  {
   "cell_type": "markdown",
   "metadata": {
    "_cell_guid": "8bbcaada-41ab-488c-9a27-240fcec4b5d2",
    "_uuid": "33a55aae9357363ef8582738edfc5ec4e61b32bf"
   },
   "source": [
    "## Currently there's an error where when creating predictions - need to debug"
   ]
  },
  {
   "cell_type": "code",
   "execution_count": null,
   "metadata": {
    "_cell_guid": "41f445b5-476f-4be3-891e-040c15272339",
    "_uuid": "a5776d710521756e70e26b4f6d96c4c452967f26",
    "collapsed": true
   },
   "outputs": [],
   "source": [
    "res = clf.predict_proba(test)"
   ]
  },
  {
   "cell_type": "markdown",
   "metadata": {
    "_cell_guid": "6182c13f-4957-45ef-9f3c-80e0df99142f",
    "_uuid": "569505054d9b204c5f7695e67c14c4ac8638e054"
   },
   "source": [
    "## Additional models\n",
    "* Train performance is dangeorusly misleading without an external validation set. \n",
    "* This is just a starter for models\n",
    "* Should also check for overfitting (requires validation set split)"
   ]
  },
  {
   "cell_type": "code",
   "execution_count": null,
   "metadata": {
    "_cell_guid": "8019cc27-265b-4dbe-95e9-2faad5f03a15",
    "_uuid": "bc8ebaeef8accb3927d21476e5bb82631da7af4a",
    "collapsed": true
   },
   "outputs": [],
   "source": [
    "# # increase # iterations when model debugged\n",
    "# clf2 = CatBoostClassifier(eval_metric=\"AUC\", one_hot_max_size=6,\n",
    "#                           iterations=50,depth=8,learning_rate=0.04, rsm=0.8)\n",
    "# clf2.fit(X,Y , cat_features=cat_dims)\n",
    "# res2 = clf2.predict_proba(test)"
   ]
  },
  {
   "cell_type": "markdown",
   "metadata": {
    "_cell_guid": "47c4bae9-04c2-4997-a2fa-60df18895aac",
    "_uuid": "7b54a773ccccc1f67b9dc4b79c57572c862f21a9"
   },
   "source": [
    "## Simple LightGBM model:\n",
    "* https://github.com/Microsoft/LightGBM/issues/1096"
   ]
  },
  {
   "cell_type": "code",
   "execution_count": null,
   "metadata": {
    "_cell_guid": "b62ea470-f0f4-45ca-853e-c7736250fc21",
    "_uuid": "f7aabdac89011b19bcf49f772f00d47c79248643",
    "collapsed": true
   },
   "outputs": [],
   "source": [
    "# we still ahve object datatypes columns..\n",
    "df.dtypes.value_counts()"
   ]
  },
  {
   "cell_type": "code",
   "execution_count": null,
   "metadata": {
    "_cell_guid": "88d1e767-dc75-49e0-8bc7-b4dbb498f6c6",
    "_uuid": "7a1e67c034078286ff3b6c307745dbeaa9f2ecaa",
    "collapsed": true
   },
   "outputs": [],
   "source": [
    "# categorical/objects cols:\n",
    "print(df.select_dtypes(exclude=[np.number]).columns.tolist())\n",
    "# df.select_dtypes(exclude=[np.number]).value_counts()"
   ]
  },
  {
   "cell_type": "code",
   "execution_count": null,
   "metadata": {
    "_cell_guid": "5a332957-778f-40f9-bcb3-c17d1989a06f",
    "_uuid": "9f26dad6958be3fa55e2a532b6528e7156e37fe4",
    "collapsed": true
   },
   "outputs": [],
   "source": [
    "lgb_train = lgb.Dataset(\n",
    "#             data=LabelEncoder().fit_transform(train_df.brand_name).reshape(-1, 1),\n",
    "    data=df.drop([TARGET],axis=1).select_dtypes(include=[np.number]).values,\n",
    "    label = df[TARGET],\n",
    "#     categorical_feature=cat_dims   \n",
    "        )"
   ]
  },
  {
   "cell_type": "code",
   "execution_count": null,
   "metadata": {
    "_cell_guid": "84f0aaff-dfe9-4737-ad5f-1f1076f291ad",
    "_uuid": "3c4a4d1fd91df1041d3bd25a46ef07d71f4a5018",
    "collapsed": true,
    "scrolled": true
   },
   "outputs": [],
   "source": [
    "# https://github.com/Microsoft/LightGBM/blob/master/docs/Parameters.rst\n",
    "t4_params = {\n",
    "    'boosting_type': 'gbdt', 'objective': 'binary', 'nthread': -1, 'silent': False,\n",
    "    'num_leaves': 2**4, 'learning_rate': 0.05, 'max_depth': 11,\n",
    "    'max_bin': 255, \n",
    "    'subsample': 0.8, 'subsample_freq': 1, 'colsample_bytree': 0.75, \n",
    "#     'early_stopping_round' : 10,\n",
    "    'min_split_gain': 0.5, 'min_child_samples': 4}\n",
    "\n",
    "clf_lgb = lgb.train(t4_params,lgb_train)"
   ]
  },
  {
   "cell_type": "code",
   "execution_count": null,
   "metadata": {
    "_cell_guid": "1318e705-464e-4cf3-8d77-a0d1b814a23b",
    "_uuid": "cb58215fed111001d8b4d7cbc2fbcdda3e636359",
    "collapsed": true
   },
   "outputs": [],
   "source": [
    "res_lgbm = clf_lgb.predict(test.select_dtypes(include=[np.number]).values)"
   ]
  },
  {
   "cell_type": "code",
   "execution_count": null,
   "metadata": {
    "_cell_guid": "4a77db6b-0a8b-4a6c-97f0-6bafa91d87b7",
    "_uuid": "65f146beec16dbd8af3f4629227b1e43588b0a1d",
    "collapsed": true
   },
   "outputs": [],
   "source": [
    "len(res_lgbm)"
   ]
  },
  {
   "cell_type": "markdown",
   "metadata": {
    "_cell_guid": "579b2ece-a843-4b1e-8899-659b30d37547",
    "_uuid": "c816d3d56666ecd899f5070d2c73394c08c3987a"
   },
   "source": [
    "#### Once more predictions work, can join and get mean of predictions = simple blending ensemble"
   ]
  },
  {
   "cell_type": "code",
   "execution_count": null,
   "metadata": {
    "_cell_guid": "abd7f790-666e-4f82-bb4b-5d8bee42bd4a",
    "_uuid": "20d517e9f7fee652ce6d7e6ca291bcf62c3635f6",
    "collapsed": true
   },
   "outputs": [],
   "source": [
    "# test[\"lgbm_preds\"]=res_lgbm\n",
    "test[\"is_female\"]=res_lgbm"
   ]
  },
  {
   "cell_type": "code",
   "execution_count": null,
   "metadata": {
    "_cell_guid": "89d04e5d-6f5c-4e27-8c26-9f72c0d89cc2",
    "_uuid": "7f0cc37ae2c247f00bc1d11db46947a7da6142aa",
    "collapsed": true
   },
   "outputs": [],
   "source": [
    "test[\"test_id\"] = test[\"test_id\"].astype(int)"
   ]
  },
  {
   "cell_type": "code",
   "execution_count": null,
   "metadata": {
    "_cell_guid": "8c542e87-b779-410d-abc8-c7a2df340359",
    "_uuid": "bd8c3a3e159e9f8e566914b27bf9906c1a24a7a0",
    "collapsed": true
   },
   "outputs": [],
   "source": [
    "test[[\"test_id\",\"is_female\"]].to_csv(\"submission.csv\",index=False)"
   ]
  },
  {
   "cell_type": "code",
   "execution_count": null,
   "metadata": {
    "_cell_guid": "71a4e051-1655-4182-83b4-8ca16c393c62",
    "_uuid": "7f3190a508fd714c438214a25d9ce29925091116",
    "collapsed": true
   },
   "outputs": [],
   "source": [
    "# preds = pd.DataFrame(columns=[test[\"test_id\"].copy(),res_lgbm]\n",
    "# preds = test[\"test_id\"].copy()\n",
    "# preds[\"is_female\"] = res_lgbm# ensemble/mean of others at this points"
   ]
  },
  {
   "cell_type": "code",
   "execution_count": null,
   "metadata": {
    "_cell_guid": "a7fc148a-c211-4f1b-bf94-9dd73da5f967",
    "_uuid": "d20d5adc80e2a43a9eb34e7a5f620861b43d3584",
    "collapsed": true,
    "scrolled": true
   },
   "outputs": [],
   "source": [
    "# preds.head()"
   ]
  },
  {
   "cell_type": "code",
   "execution_count": null,
   "metadata": {
    "_cell_guid": "733de3e9-16d6-42bd-bb66-f8d6ef6fe5c0",
    "_uuid": "76365e29a14a5dccf31c1c0b6b518f4297f015b6",
    "collapsed": true
   },
   "outputs": [],
   "source": [
    "# preds.to_csv(\"submission.csv.gz\",index=False,compression=\"gzip\")"
   ]
  },
  {
   "cell_type": "code",
   "execution_count": null,
   "metadata": {
    "_cell_guid": "8ce76000-7d7d-492c-929f-a064428aaf45",
    "_uuid": "98d119c0c850316e9bd2bbee5d630680fc18df3e",
    "collapsed": true
   },
   "outputs": [],
   "source": []
  }
 ],
 "metadata": {
  "kernelspec": {
   "display_name": "Python 3",
   "language": "python",
   "name": "python3"
  },
  "language_info": {
   "codemirror_mode": {
    "name": "ipython",
    "version": 3
   },
   "file_extension": ".py",
   "mimetype": "text/x-python",
   "name": "python",
   "nbconvert_exporter": "python",
   "pygments_lexer": "ipython3",
   "version": "3.6.1"
  }
 },
 "nbformat": 4,
 "nbformat_minor": 1
}
